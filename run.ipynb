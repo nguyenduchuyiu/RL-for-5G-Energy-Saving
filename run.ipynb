{
 "cells": [
  {
   "cell_type": "code",
   "execution_count": 9,
   "id": "bb102568",
   "metadata": {
    "execution": {
     "iopub.execute_input": "2025-10-24T07:56:41.242357Z",
     "iopub.status.busy": "2025-10-24T07:56:41.242062Z",
     "iopub.status.idle": "2025-10-24T07:56:44.606481Z",
     "shell.execute_reply": "2025-10-24T07:56:44.605399Z"
    },
    "papermill": {
     "duration": 3.369905,
     "end_time": "2025-10-24T07:56:44.608165",
     "exception": false,
     "start_time": "2025-10-24T07:56:41.238260",
     "status": "completed"
    },
    "tags": []
   },
   "outputs": [
    {
     "name": "stdout",
     "output_type": "stream",
     "text": [
      "Cloning into 'RL-for-5G-Energy-Saving'...\n",
      "remote: Enumerating objects: 590, done.\u001b[K\n",
      "remote: Counting objects: 100% (62/62), done.\u001b[K\n",
      "remote: Compressing objects: 100% (25/25), done.\u001b[K\n",
      "^Cceiving objects:  18% (112/590), 5.25 MiB | 461.00 KiB/s  \n"
     ]
    }
   ],
   "source": [
    "!git clone -b ppo-rnn --single-branch https://github.com/nguyenduchuyiu/RL-for-5G-Energy-Saving.git"
   ]
  },
  {
   "cell_type": "code",
   "execution_count": 2,
   "id": "d47b70b1",
   "metadata": {
    "execution": {
     "iopub.execute_input": "2025-10-24T07:56:44.616638Z",
     "iopub.status.busy": "2025-10-24T07:56:44.616193Z",
     "iopub.status.idle": "2025-10-24T07:56:44.623099Z",
     "shell.execute_reply": "2025-10-24T07:56:44.622178Z"
    },
    "papermill": {
     "duration": 0.012804,
     "end_time": "2025-10-24T07:56:44.624621",
     "exception": false,
     "start_time": "2025-10-24T07:56:44.611817",
     "status": "completed"
    },
    "tags": []
   },
   "outputs": [
    {
     "name": "stdout",
     "output_type": "stream",
     "text": [
      "/kaggle/working/RL-for-5G-Energy-Saving\n"
     ]
    }
   ],
   "source": [
    "%cd RL-for-5G-Energy-Saving"
   ]
  },
  {
   "cell_type": "code",
   "execution_count": 15,
   "id": "1d987486",
   "metadata": {
    "execution": {
     "iopub.execute_input": "2025-10-24T07:56:44.632205Z",
     "iopub.status.busy": "2025-10-24T07:56:44.631918Z",
     "iopub.status.idle": "2025-10-24T07:56:44.638116Z",
     "shell.execute_reply": "2025-10-24T07:56:44.637190Z"
    },
    "papermill": {
     "duration": 0.011503,
     "end_time": "2025-10-24T07:56:44.639392",
     "exception": false,
     "start_time": "2025-10-24T07:56:44.627889",
     "status": "completed"
    },
    "tags": []
   },
   "outputs": [
    {
     "name": "stdout",
     "output_type": "stream",
     "text": [
      "Overwriting app/energy_agent/config.yaml\n"
     ]
    }
   ],
   "source": [
    "%%writefile app/energy_agent/config.yaml\n",
    "training_mode: True\n",
    "use_gpu: True\n",
    "checkpoint_path: \"app/energy_agent/models/ppo_rnn_model_last.pth\"\n",
    "\n",
    "actor_lr: 0.0001\n",
    "critic_lr: 0.0003\n",
    "\n",
    "energy_coeff: 0.1\n",
    "drop_magnitude_penalty_coef: 1.0\n",
    "latency_magnitude_penalty_coef: 1.0\n",
    "cpu_magnitude_penalty_coef: 1.0\n",
    "prb_magnitude_penalty_coef: 1.0\n",
    "improvement_coeff: 5.0\n",
    "\n",
    "violation_event_penalty: -50.0\n",
    "energy_consumption_penalty: -1000.0\n",
    "\n",
    "entropy_coef: 0.001\n",
    "gamma: 0.99\n",
    "lambda_gae: 0.95\n",
    "clip_epsilon: 0.2\n",
    "ppo_epochs: 8\n",
    "batch_size: 8\n",
    "chunk_len: 32\n",
    "buffer_size: 512\n",
    "hidden_dim: 256"
   ]
  },
  {
   "cell_type": "code",
   "execution_count": 16,
   "id": "582a1628",
   "metadata": {
    "execution": {
     "iopub.execute_input": "2025-10-24T07:56:44.647683Z",
     "iopub.status.busy": "2025-10-24T07:56:44.647017Z",
     "iopub.status.idle": "2025-10-24T07:56:44.652914Z",
     "shell.execute_reply": "2025-10-24T07:56:44.651984Z"
    },
    "papermill": {
     "duration": 0.011524,
     "end_time": "2025-10-24T07:56:44.654374",
     "exception": false,
     "start_time": "2025-10-24T07:56:44.642850",
     "status": "completed"
    },
    "tags": []
   },
   "outputs": [
    {
     "name": "stdout",
     "output_type": "stream",
     "text": [
      "Overwriting app/train_scenarios/dense_urban.json\n"
     ]
    }
   ],
   "source": [
    "%%writefile app/train_scenarios/dense_urban.json\n",
    "{\n",
    "  \"name\": \"Dense Urban\",\n",
    "  \"description\": \"3GPP Dense urban with macro and micro cells\",\n",
    "  \"deploymentScenario\": \"dense_urban\",\n",
    "  \n",
    "  \"carrierFrequency\": 4e9,\n",
    "  \"systemBandwidth\": 200e6,\n",
    "  \"layout\": \"two_layer\",\n",
    "  \"isd\": 200,\n",
    "  \n",
    "  \"numSites\": 7,\n",
    "  \"numSectors\": 3,\n",
    "  \"antennaHeight\": 25,\n",
    "  \"cellRadius\": 200,\n",
    "  \n",
    "  \"numUEs\": 300,\n",
    "  \"userDistribution\": \"Uniform/macro\",\n",
    "  \"ueSpeed\": 3,\n",
    "  \"indoorRatio\": 0.8,\n",
    "  \"outdoorSpeed\": 30,\n",
    "  \n",
    "  \"minTxPower\": 10,\n",
    "  \"maxTxPower\": 46,\n",
    "  \"basePower\": 1000,\n",
    "  \"idlePower\": 250,\n",
    "  \n",
    "  \"simTime\": 10240,\n",
    "  \"timeStep\": 1,\n",
    "  \n",
    "  \"rsrpServingThreshold\": -110,\n",
    "  \"rsrpTargetThreshold\": -100,\n",
    "  \"rsrpMeasurementThreshold\": -115,\n",
    "  \"dropCallThreshold\": 1,\n",
    "  \"latencyThreshold\": 50,\n",
    "  \"cpuThreshold\": 95,\n",
    "  \"prbThreshold\": 95,\n",
    "  \n",
    "  \"trafficLambda\": 20,\n",
    "  \"peakHourMultiplier\": 1.3\n",
    "}"
   ]
  },
  {
   "cell_type": "code",
   "execution_count": 12,
   "id": "7e8f13c1",
   "metadata": {
    "execution": {
     "iopub.execute_input": "2025-10-24T07:56:44.662609Z",
     "iopub.status.busy": "2025-10-24T07:56:44.661992Z",
     "iopub.status.idle": "2025-10-24T07:56:44.667932Z",
     "shell.execute_reply": "2025-10-24T07:56:44.667088Z"
    },
    "papermill": {
     "duration": 0.011259,
     "end_time": "2025-10-24T07:56:44.669132",
     "exception": false,
     "start_time": "2025-10-24T07:56:44.657873",
     "status": "completed"
    },
    "tags": []
   },
   "outputs": [
    {
     "name": "stdout",
     "output_type": "stream",
     "text": [
      "Overwriting app/train_scenarios/urban_macro.json\n"
     ]
    }
   ],
   "source": [
    "%%writefile app/train_scenarios/urban_macro.json\n",
    "    {\n",
    "  \"name\": \"3GPP Urban Macro\",\n",
    "  \"description\": \"3GPP Urban macro deployment scenario with large cells and continuous coverage\",\n",
    "  \"deploymentScenario\": \"urban_macro\",\n",
    "  \n",
    "  \"carrierFrequency\": 2e9,\n",
    "  \"systemBandwidth\": 100e6,\n",
    "  \"layout\": \"hexagonal_grid\",\n",
    "  \"isd\": 500,\n",
    "  \n",
    "  \"numSites\": 7,\n",
    "  \"numSectors\": 3,\n",
    "  \"antennaHeight\": 25,\n",
    "  \"cellRadius\": 200,\n",
    "  \n",
    "  \"numUEs\": 300,\n",
    "  \"userDistribution\": \"mixed_outdoor_indoor\",\n",
    "  \"ueSpeed\": 30,\n",
    "  \"indoorRatio\": 0.8,\n",
    "  \"outdoorSpeed\": 30,\n",
    "  \n",
    "  \"minTxPower\": 20,\n",
    "  \"maxTxPower\": 46,\n",
    "  \"basePower\": 1000,\n",
    "  \"idlePower\": 250,\n",
    "  \n",
    "  \"simTime\": 0,\n",
    "  \"timeStep\": 1,\n",
    "  \n",
    "  \"rsrpServingThreshold\": -110,\n",
    "  \"rsrpTargetThreshold\": -100,\n",
    "  \"rsrpMeasurementThreshold\": -115,\n",
    "  \"dropCallThreshold\": 1,\n",
    "  \"latencyThreshold\": 50,\n",
    "  \"cpuThreshold\": 95,\n",
    "  \"prbThreshold\": 95,\n",
    "  \n",
    "  \"trafficLambda\": 25,\n",
    "  \"peakHourMultiplier\": 1.8\n",
    "}"
   ]
  },
  {
   "cell_type": "code",
   "execution_count": 13,
   "id": "b348f6a5",
   "metadata": {
    "execution": {
     "iopub.execute_input": "2025-10-24T07:56:44.677347Z",
     "iopub.status.busy": "2025-10-24T07:56:44.677042Z",
     "iopub.status.idle": "2025-10-24T07:56:44.682759Z",
     "shell.execute_reply": "2025-10-24T07:56:44.681979Z"
    },
    "papermill": {
     "duration": 0.011303,
     "end_time": "2025-10-24T07:56:44.683988",
     "exception": false,
     "start_time": "2025-10-24T07:56:44.672685",
     "status": "completed"
    },
    "tags": []
   },
   "outputs": [
    {
     "name": "stdout",
     "output_type": "stream",
     "text": [
      "Overwriting app/train_scenarios/rural.json\n"
     ]
    }
   ],
   "source": [
    "%%writefile app/train_scenarios/rural.json\n",
    "{\n",
    "  \"name\": \"3GPP Rural Macro\",\n",
    "  \"description\": \"3GPP Rural deployment scenario with wide area coverage for high speed vehicles\",\n",
    "  \"deploymentScenario\": \"rural\",\n",
    "  \n",
    "  \"carrierFrequency\": 700e6,\n",
    "  \"systemBandwidth\": 20e6,\n",
    "  \"layout\": \"hexagonal_grid\",\n",
    "  \"isd\": 1732,\n",
    "  \n",
    "  \"numSites\": 19,\n",
    "  \"numSectors\": 3,\n",
    "  \"antennaHeight\": 35,\n",
    "  \"cellRadius\": 1000,\n",
    "  \n",
    "  \"numUEs\": 100,\n",
    "  \"userDistribution\": \"mixed_outdoor_indoor\",\n",
    "  \"ueSpeed\": 120,\n",
    "  \"indoorRatio\": 0.5,\n",
    "  \"outdoorSpeed\": 120,\n",
    "  \n",
    "  \"minTxPower\": 20,\n",
    "  \"maxTxPower\": 46,\n",
    "  \"basePower\": 1200,\n",
    "  \"idlePower\": 300,\n",
    "  \n",
    "  \"simTime\": 0,\n",
    "  \"timeStep\": 1,\n",
    "  \n",
    "  \"rsrpServingThreshold\": -115,\n",
    "  \"rsrpTargetThreshold\": -105,\n",
    "  \"rsrpMeasurementThreshold\": -120,\n",
    "  \"dropCallThreshold\": 2,\n",
    "  \"latencyThreshold\": 100,\n",
    "  \"cpuThreshold\": 90,\n",
    "  \"prbThreshold\": 90,\n",
    "  \n",
    "  \"trafficLambda\": 10,\n",
    "  \"peakHourMultiplier\": 1.2\n",
    "}"
   ]
  },
  {
   "cell_type": "markdown",
   "id": "ffa05f7a",
   "metadata": {
    "papermill": {
     "duration": 0.003244,
     "end_time": "2025-10-24T07:56:44.690910",
     "exception": false,
     "start_time": "2025-10-24T07:56:44.687666",
     "status": "completed"
    },
    "tags": []
   },
   "source": [
    "# Train"
   ]
  },
  {
   "cell_type": "code",
   "execution_count": 14,
   "id": "e40a29ed",
   "metadata": {
    "execution": {
     "iopub.execute_input": "2025-10-24T07:56:44.698841Z",
     "iopub.status.busy": "2025-10-24T07:56:44.698547Z",
     "iopub.status.idle": "2025-10-24T18:00:01.159141Z",
     "shell.execute_reply": "2025-10-24T18:00:01.157535Z"
    },
    "papermill": {
     "duration": 36196.466752,
     "end_time": "2025-10-24T18:00:01.161033",
     "exception": false,
     "start_time": "2025-10-24T07:56:44.694281",
     "status": "completed"
    },
    "tags": []
   },
   "outputs": [
    {
     "name": "stdout",
     "output_type": "stream",
     "text": [
      "/home/huy/anaconda3/envs/mira/lib/python3.10/site-packages/torch/cuda/__init__.py:61: FutureWarning: The pynvml package is deprecated. Please install nvidia-ml-py instead. If you did not install pynvml directly, please report this to the maintainers of the package that installed pynvml for you.\n",
      "  import pynvml  # type: ignore[import]\n",
      "\n",
      "=== Running Benchmark Suite (3 scenarios) ===\n",
      "\n",
      "\n",
      "--- Scenario 1/3: dense_urban ---\n",
      "Loaded scenario: Dense Urban\n",
      "2025-10-25 04:09:30,596 - PPOAgent - INFO - PPO Agent initialized: 21 cells, 300 UEs\n",
      "2025-10-25 04:09:30,597 - PPOAgent - INFO - State dim: 1441, Action dim: 100\n",
      "2025-10-25 04:09:30,597 - PPOAgent - INFO - Device: cuda\n",
      "2025-10-25 04:09:30,597 - PPOAgent - INFO - No checkpoint found at app/energy_agent/models/ppo_rnn_model_last.pth\n",
      "Created 7 sites for dense_urban scenario\n",
      "Configuring cells for dense_urban scenario...\n",
      "Configured 21 cells for dense_urban scenario\n",
      "Initialized 300 UEs for dense_urban scenario\n",
      "Starting scenario...\n",
      "2025-10-25 04:09:51,817 - PPOAgent - INFO - Episode =1,\n",
      "Episode Reward=-107.56,\n",
      "Drop Penalty=-52.98,\n",
      "Latency Penalty=0.00,\n",
      "CPU Penalty=0.00,\n",
      "PRB Penalty=0.00,\n",
      "Drop Improvement=-1.40,\n",
      "Latency Improvement=0.00,\n",
      "Energy Efficiency Reward=-46.16,\n",
      "Energy Consumption Penalty=-7.01,\n",
      "\n",
      "2025-10-25 04:09:52,381 - PPOAgent - INFO - Epoch 1/8: Actor loss=-0.0009, Critic loss=104451.8047\n",
      "2025-10-25 04:09:52,430 - PPOAgent - INFO - Epoch 2/8: Actor loss=-0.0027, Critic loss=104114.9609\n",
      "2025-10-25 04:09:52,497 - PPOAgent - INFO - Epoch 3/8: Actor loss=-0.0045, Critic loss=103813.5000\n",
      "2025-10-25 04:09:52,548 - PPOAgent - INFO - Epoch 4/8: Actor loss=-0.0063, Critic loss=103564.5547\n",
      "2025-10-25 04:09:52,596 - PPOAgent - INFO - Epoch 5/8: Actor loss=-0.0082, Critic loss=103369.3594\n",
      "2025-10-25 04:09:52,663 - PPOAgent - INFO - Epoch 6/8: Actor loss=-0.0103, Critic loss=103210.0859\n",
      "2025-10-25 04:09:52,714 - PPOAgent - INFO - Epoch 7/8: Actor loss=-0.0125, Critic loss=103074.5781\n",
      "2025-10-25 04:09:52,764 - PPOAgent - INFO - Epoch 8/8: Actor loss=-0.0148, Critic loss=102953.7031\n",
      "2025-10-25 04:09:52,764 - PPOAgent - INFO - Training completed: Actor loss=-0.0148, Critic loss=102953.7031\n",
      "Ending scenario...\n",
      "2025-10-25 04:09:53,645 - PPOAgent - INFO - Plots saved to plots/episode_20251025_040952.png\n",
      "2025-10-25 04:09:53,674 - PPOAgent - INFO - Model saved to app/energy_agent/models/ppo_rnn_model_last.pth\n",
      "⚠️  Scenario dense_urban has 1 KPI violations.\n",
      "\n",
      "Results for dense_urban:\n",
      "  Energy: 0.070150 kWh\n",
      "  Drop Rate: 2.80%\n",
      "  Latency: 26.8 ms\n",
      "  Handovers: 69 (Success: 78.3%)\n",
      "\n",
      "--- Scenario 2/3: rural ---\n",
      "Loaded scenario: 3GPP Rural Macro\n",
      "Skipping scenario rural: simTime=0\n",
      "\n",
      "Results for rural:\n",
      "  Energy: 0.000000 kWh\n",
      "  Drop Rate: 0.00%\n",
      "  Latency: 0.0 ms\n",
      "  Handovers: 0 (Success: 0.0%)\n",
      "\n",
      "--- Scenario 3/3: urban_macro ---\n",
      "Loaded scenario: 3GPP Urban Macro\n",
      "Skipping scenario urban_macro: simTime=0\n",
      "\n",
      "Results for urban_macro:\n",
      "  Energy: 0.000000 kWh\n",
      "  Drop Rate: 0.00%\n",
      "  Latency: 0.0 ms\n",
      "  Handovers: 0 (Success: 0.0%)\n",
      "\n",
      "Written 3 energy values to energies.txt\n",
      "\n",
      "energies.txt generated with 3 values\n",
      "\n",
      "Energy values written to energies.txt:\n",
      "  Scenario 1 (dense_urban): 0.000000 kWh\n",
      "  Scenario 2 (rural): 0.000000 kWh\n",
      "  Scenario 3 (urban_macro): 0.000000 kWh\n"
     ]
    }
   ],
   "source": [
    "!python3 app/main_run_scenarios_python.py --scenarios-dir app/train_scenarios"
   ]
  },
  {
   "cell_type": "markdown",
   "id": "223935bd",
   "metadata": {
    "papermill": {
     "duration": 0.38983,
     "end_time": "2025-10-24T18:00:01.953950",
     "exception": false,
     "start_time": "2025-10-24T18:00:01.564120",
     "status": "completed"
    },
    "tags": []
   },
   "source": [
    "# Test"
   ]
  },
  {
   "cell_type": "code",
   "execution_count": 6,
   "id": "db077b13",
   "metadata": {
    "execution": {
     "iopub.execute_input": "2025-10-24T18:00:02.725527Z",
     "iopub.status.busy": "2025-10-24T18:00:02.724998Z",
     "iopub.status.idle": "2025-10-24T18:00:02.733316Z",
     "shell.execute_reply": "2025-10-24T18:00:02.732450Z"
    },
    "papermill": {
     "duration": 0.392154,
     "end_time": "2025-10-24T18:00:02.735153",
     "exception": false,
     "start_time": "2025-10-24T18:00:02.342999",
     "status": "completed"
    },
    "tags": []
   },
   "outputs": [
    {
     "name": "stdout",
     "output_type": "stream",
     "text": [
      "Overwriting app/energy_agent/config.yaml\n"
     ]
    }
   ],
   "source": [
    "%%writefile app/energy_agent/config.yaml\n",
    "training_mode: False\n",
    "use_gpu: True\n",
    "checkpoint_path: \"app/energy_agent/models/ppo_rnn_model_last.pth\"\n",
    "\n",
    "actor_lr: 0.0001\n",
    "critic_lr: 0.0003\n",
    "\n",
    "energy_coeff: 0.1\n",
    "drop_magnitude_penalty_coef: 1.0\n",
    "latency_magnitude_penalty_coef: 1.0\n",
    "cpu_magnitude_penalty_coef: 1.0\n",
    "prb_magnitude_penalty_coef: 1.0\n",
    "improvement_coeff: 5.0\n",
    "\n",
    "violation_event_penalty: -50.0\n",
    "energy_consumption_penalty: -1000.0\n",
    "\n",
    "entropy_coef: 0.001\n",
    "gamma: 0.99\n",
    "lambda_gae: 0.95\n",
    "clip_epsilon: 0.2\n",
    "ppo_epochs: 8\n",
    "batch_size: 64\n",
    "chunk_len: 32\n",
    "buffer_size: 10\n",
    "hidden_dim: 256"
   ]
  },
  {
   "cell_type": "code",
   "execution_count": 7,
   "id": "76ec4f7f",
   "metadata": {
    "execution": {
     "iopub.execute_input": "2025-10-24T18:00:03.498799Z",
     "iopub.status.busy": "2025-10-24T18:00:03.497613Z",
     "iopub.status.idle": "2025-10-24T19:20:33.547180Z",
     "shell.execute_reply": "2025-10-24T19:20:33.546101Z"
    },
    "papermill": {
     "duration": 4830.43195,
     "end_time": "2025-10-24T19:20:33.548899",
     "exception": false,
     "start_time": "2025-10-24T18:00:03.116949",
     "status": "completed"
    },
    "tags": []
   },
   "outputs": [
    {
     "name": "stdout",
     "output_type": "stream",
     "text": [
      "/home/huy/anaconda3/envs/mira/lib/python3.10/site-packages/torch/cuda/__init__.py:61: FutureWarning: The pynvml package is deprecated. Please install nvidia-ml-py instead. If you did not install pynvml directly, please report this to the maintainers of the package that installed pynvml for you.\n",
      "  import pynvml  # type: ignore[import]\n",
      "\n",
      "=== Running Benchmark Suite (3 scenarios) ===\n",
      "\n",
      "\n",
      "--- Scenario 1/3: dense_urban ---\n",
      "Loaded scenario: Dense Urban\n",
      "2025-10-25 04:04:41,142 - PPOAgent - INFO - PPO Agent initialized: 21 cells, 300 UEs\n",
      "2025-10-25 04:04:41,142 - PPOAgent - INFO - State dim: 1441, Action dim: 100\n",
      "2025-10-25 04:04:41,142 - PPOAgent - INFO - Device: cuda\n",
      "2025-10-25 04:04:41,142 - PPOAgent - INFO - No checkpoint found at app/energy_agent/models/ppo_rnn_model_last.pth\n",
      "Created 7 sites for dense_urban scenario\n",
      "Configuring cells for dense_urban scenario...\n",
      "Configured 21 cells for dense_urban scenario\n",
      "Initialized 300 UEs for dense_urban scenario\n",
      "Starting scenario...\n",
      "Traceback (most recent call last):\n",
      "  File \"/home/huy/Project/public_1/5GEnergySaving-Round1-public/app/main_run_scenarios_python.py\", line 172, in <module>\n",
      "    main(scenarios_dir=args.scenarios_dir, base_seed=args.base_seed)\n",
      "  File \"/home/huy/Project/public_1/5GEnergySaving-Round1-public/app/main_run_scenarios_python.py\", line 61, in main\n",
      "    results = run_scenario_with_rl_agent(scenario=name, seed=seed, scenarios_dir=scenarios_dir)\n",
      "  File \"/home/huy/Project/public_1/5GEnergySaving-Round1-public/app/main_run_scenarios_python.py\", line 132, in run_scenario_with_rl_agent\n",
      "    next_state, reward, done, truncated, info = env.step(action)\n",
      "  File \"/home/huy/Project/public_1/5GEnergySaving-Round1-public/app/simulation/environment.py\", line 118, in step\n",
      "    update_signal_measurements(\n",
      "  File \"/home/huy/Project/public_1/5GEnergySaving-Round1-public/app/simulation/signal_measurement.py\", line 25, in update_signal_measurements\n",
      "    rng = np.random.RandomState(rsrp_seed)\n",
      "KeyboardInterrupt\n",
      "^C\n"
     ]
    }
   ],
   "source": [
    "!python3 app/main_run_scenarios_python.py --scenarios-dir app/test_scenarios"
   ]
  }
 ],
 "metadata": {
  "kaggle": {
   "accelerator": "none",
   "dataSources": [],
   "dockerImageVersionId": 31153,
   "isGpuEnabled": false,
   "isInternetEnabled": true,
   "language": "python",
   "sourceType": "notebook"
  },
  "kernelspec": {
   "display_name": "mira",
   "language": "python",
   "name": "python3"
  },
  "language_info": {
   "codemirror_mode": {
    "name": "ipython",
    "version": 3
   },
   "file_extension": ".py",
   "mimetype": "text/x-python",
   "name": "python",
   "nbconvert_exporter": "python",
   "pygments_lexer": "ipython3",
   "version": "3.10.12"
  },
  "papermill": {
   "default_parameters": {},
   "duration": 41037.499225,
   "end_time": "2025-10-24T19:20:34.343328",
   "environment_variables": {},
   "exception": null,
   "input_path": "__notebook__.ipynb",
   "output_path": "__notebook__.ipynb",
   "parameters": {},
   "start_time": "2025-10-24T07:56:36.844103",
   "version": "2.6.0"
  }
 },
 "nbformat": 4,
 "nbformat_minor": 5
}
