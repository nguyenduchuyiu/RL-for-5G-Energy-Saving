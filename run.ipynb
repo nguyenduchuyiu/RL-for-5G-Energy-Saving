{
 "cells": [
  {
   "cell_type": "code",
   "execution_count": 1,
   "id": "bb102568",
   "metadata": {
    "execution": {
     "iopub.execute_input": "2025-10-24T07:56:41.242357Z",
     "iopub.status.busy": "2025-10-24T07:56:41.242062Z",
     "iopub.status.idle": "2025-10-24T07:56:44.606481Z",
     "shell.execute_reply": "2025-10-24T07:56:44.605399Z"
    },
    "papermill": {
     "duration": 3.369905,
     "end_time": "2025-10-24T07:56:44.608165",
     "exception": false,
     "start_time": "2025-10-24T07:56:41.238260",
     "status": "completed"
    },
    "tags": []
   },
   "outputs": [
    {
     "name": "stdout",
     "output_type": "stream",
     "text": [
      "Cloning into 'RL-for-5G-Energy-Saving'...\r\n",
      "remote: Enumerating objects: 677, done.\u001b[K\r\n",
      "remote: Counting objects: 100% (65/65), done.\u001b[K\r\n",
      "remote: Compressing objects: 100% (45/45), done.\u001b[K\r\n",
      "remote: Total 677 (delta 38), reused 40 (delta 18), pack-reused 612 (from 1)\u001b[K\r\n",
      "Receiving objects: 100% (677/677), 53.90 MiB | 32.28 MiB/s, done.\r\n",
      "Resolving deltas: 100% (433/433), done.\r\n"
     ]
    }
   ],
   "source": [
    "!git clone https://github.com/nguyenduchuyiu/RL-for-5G-Energy-Saving.git"
   ]
  },
  {
   "cell_type": "code",
   "execution_count": 2,
   "id": "d47b70b1",
   "metadata": {
    "execution": {
     "iopub.execute_input": "2025-10-24T07:56:44.616638Z",
     "iopub.status.busy": "2025-10-24T07:56:44.616193Z",
     "iopub.status.idle": "2025-10-24T07:56:44.623099Z",
     "shell.execute_reply": "2025-10-24T07:56:44.622178Z"
    },
    "papermill": {
     "duration": 0.012804,
     "end_time": "2025-10-24T07:56:44.624621",
     "exception": false,
     "start_time": "2025-10-24T07:56:44.611817",
     "status": "completed"
    },
    "tags": []
   },
   "outputs": [
    {
     "name": "stdout",
     "output_type": "stream",
     "text": [
      "/kaggle/working/RL-for-5G-Energy-Saving\n"
     ]
    }
   ],
   "source": [
    "%cd RL-for-5G-Energy-Saving"
   ]
  },
  {
   "cell_type": "code",
   "execution_count": 2,
   "id": "1d987486",
   "metadata": {
    "execution": {
     "iopub.execute_input": "2025-10-24T07:56:44.632205Z",
     "iopub.status.busy": "2025-10-24T07:56:44.631918Z",
     "iopub.status.idle": "2025-10-24T07:56:44.638116Z",
     "shell.execute_reply": "2025-10-24T07:56:44.637190Z"
    },
    "papermill": {
     "duration": 0.011503,
     "end_time": "2025-10-24T07:56:44.639392",
     "exception": false,
     "start_time": "2025-10-24T07:56:44.627889",
     "status": "completed"
    },
    "tags": []
   },
   "outputs": [
    {
     "name": "stdout",
     "output_type": "stream",
     "text": [
      "Overwriting app/energy_agent/config.yaml\n"
     ]
    }
   ],
   "source": [
    "%%writefile app/energy_agent/config.yaml\n",
    "training_mode: True\n",
    "use_gpu: True\n",
    "checkpoint_path: \"app/energy_agent/models/ppo_rnn_model_last.pth\"\n",
    "\n",
    "actor_lr: 0.0001\n",
    "critic_lr: 0.0003\n",
    "\n",
    "energy_coeff: 0.1\n",
    "drop_magnitude_penalty_coef: 1.0\n",
    "latency_magnitude_penalty_coef: 1.0\n",
    "cpu_magnitude_penalty_coef: 1.0\n",
    "prb_magnitude_penalty_coef: 1.0\n",
    "improvement_coeff: 5.0\n",
    "\n",
    "violation_event_penalty: -50.0\n",
    "energy_consumption_penalty: -1000.0\n",
    "\n",
    "entropy_coef: 0.001\n",
    "gamma: 0.99\n",
    "lambda_gae: 0.95\n",
    "clip_epsilon: 0.2\n",
    "ppo_epochs: 8\n",
    "batch_size: 64\n",
    "chunk_len: 32\n",
    "buffer_size: 10\n",
    "hidden_dim: 256"
   ]
  },
  {
   "cell_type": "code",
   "execution_count": 5,
   "id": "582a1628",
   "metadata": {
    "execution": {
     "iopub.execute_input": "2025-10-24T07:56:44.647683Z",
     "iopub.status.busy": "2025-10-24T07:56:44.647017Z",
     "iopub.status.idle": "2025-10-24T07:56:44.652914Z",
     "shell.execute_reply": "2025-10-24T07:56:44.651984Z"
    },
    "papermill": {
     "duration": 0.011524,
     "end_time": "2025-10-24T07:56:44.654374",
     "exception": false,
     "start_time": "2025-10-24T07:56:44.642850",
     "status": "completed"
    },
    "tags": []
   },
   "outputs": [
    {
     "name": "stdout",
     "output_type": "stream",
     "text": [
      "Writing app/train_scenarios/dense_urban.json\n"
     ]
    }
   ],
   "source": [
    "%%writefile app/train_scenarios/dense_urban.json\n",
    "{\n",
    "  \"name\": \"Dense Urban\",\n",
    "  \"description\": \"3GPP Dense urban with macro and micro cells\",\n",
    "  \"deploymentScenario\": \"dense_urban\",\n",
    "  \n",
    "  \"carrierFrequency\": 4e9,\n",
    "  \"systemBandwidth\": 200e6,\n",
    "  \"layout\": \"two_layer\",\n",
    "  \"isd\": 200,\n",
    "  \n",
    "  \"numSites\": 7,\n",
    "  \"numSectors\": 3,\n",
    "  \"antennaHeight\": 25,\n",
    "  \"cellRadius\": 200,\n",
    "  \n",
    "  \"numUEs\": 300,\n",
    "  \"userDistribution\": \"Uniform/macro\",\n",
    "  \"ueSpeed\": 3,\n",
    "  \"indoorRatio\": 0.8,\n",
    "  \"outdoorSpeed\": 30,\n",
    "  \n",
    "  \"minTxPower\": 10,\n",
    "  \"maxTxPower\": 46,\n",
    "  \"basePower\": 1000,\n",
    "  \"idlePower\": 250,\n",
    "  \n",
    "  \"simTime\": 4096,\n",
    "  \"timeStep\": 1,\n",
    "  \n",
    "  \"rsrpServingThreshold\": -110,\n",
    "  \"rsrpTargetThreshold\": -100,\n",
    "  \"rsrpMeasurementThreshold\": -115,\n",
    "  \"dropCallThreshold\": 1,\n",
    "  \"latencyThreshold\": 50,\n",
    "  \"cpuThreshold\": 95,\n",
    "  \"prbThreshold\": 95,\n",
    "  \n",
    "  \"trafficLambda\": 20,\n",
    "  \"peakHourMultiplier\": 1.3\n",
    "}"
   ]
  },
  {
   "cell_type": "code",
   "execution_count": 6,
   "id": "7e8f13c1",
   "metadata": {
    "execution": {
     "iopub.execute_input": "2025-10-24T07:56:44.662609Z",
     "iopub.status.busy": "2025-10-24T07:56:44.661992Z",
     "iopub.status.idle": "2025-10-24T07:56:44.667932Z",
     "shell.execute_reply": "2025-10-24T07:56:44.667088Z"
    },
    "papermill": {
     "duration": 0.011259,
     "end_time": "2025-10-24T07:56:44.669132",
     "exception": false,
     "start_time": "2025-10-24T07:56:44.657873",
     "status": "completed"
    },
    "tags": []
   },
   "outputs": [
    {
     "name": "stdout",
     "output_type": "stream",
     "text": [
      "Writing app/train_scenarios/urban_macro.json\n"
     ]
    }
   ],
   "source": [
    "%%writefile app/train_scenarios/urban_macro.json\n",
    "    {\n",
    "  \"name\": \"3GPP Urban Macro\",\n",
    "  \"description\": \"3GPP Urban macro deployment scenario with large cells and continuous coverage\",\n",
    "  \"deploymentScenario\": \"urban_macro\",\n",
    "  \n",
    "  \"carrierFrequency\": 2e9,\n",
    "  \"systemBandwidth\": 100e6,\n",
    "  \"layout\": \"hexagonal_grid\",\n",
    "  \"isd\": 500,\n",
    "  \n",
    "  \"numSites\": 7,\n",
    "  \"numSectors\": 3,\n",
    "  \"antennaHeight\": 25,\n",
    "  \"cellRadius\": 200,\n",
    "  \n",
    "  \"numUEs\": 300,\n",
    "  \"userDistribution\": \"mixed_outdoor_indoor\",\n",
    "  \"ueSpeed\": 30,\n",
    "  \"indoorRatio\": 0.8,\n",
    "  \"outdoorSpeed\": 30,\n",
    "  \n",
    "  \"minTxPower\": 20,\n",
    "  \"maxTxPower\": 46,\n",
    "  \"basePower\": 1000,\n",
    "  \"idlePower\": 250,\n",
    "  \n",
    "  \"simTime\": 0,\n",
    "  \"timeStep\": 1,\n",
    "  \n",
    "  \"rsrpServingThreshold\": -110,\n",
    "  \"rsrpTargetThreshold\": -100,\n",
    "  \"rsrpMeasurementThreshold\": -115,\n",
    "  \"dropCallThreshold\": 1,\n",
    "  \"latencyThreshold\": 50,\n",
    "  \"cpuThreshold\": 95,\n",
    "  \"prbThreshold\": 95,\n",
    "  \n",
    "  \"trafficLambda\": 25,\n",
    "  \"peakHourMultiplier\": 1.8\n",
    "}"
   ]
  },
  {
   "cell_type": "code",
   "execution_count": 7,
   "id": "b348f6a5",
   "metadata": {
    "execution": {
     "iopub.execute_input": "2025-10-24T07:56:44.677347Z",
     "iopub.status.busy": "2025-10-24T07:56:44.677042Z",
     "iopub.status.idle": "2025-10-24T07:56:44.682759Z",
     "shell.execute_reply": "2025-10-24T07:56:44.681979Z"
    },
    "papermill": {
     "duration": 0.011303,
     "end_time": "2025-10-24T07:56:44.683988",
     "exception": false,
     "start_time": "2025-10-24T07:56:44.672685",
     "status": "completed"
    },
    "tags": []
   },
   "outputs": [
    {
     "name": "stdout",
     "output_type": "stream",
     "text": [
      "Writing app/train_scenarios/rural.json\n"
     ]
    }
   ],
   "source": [
    "%%writefile app/train_scenarios/rural.json\n",
    "{\n",
    "  \"name\": \"3GPP Rural Macro\",\n",
    "  \"description\": \"3GPP Rural deployment scenario with wide area coverage for high speed vehicles\",\n",
    "  \"deploymentScenario\": \"rural\",\n",
    "  \n",
    "  \"carrierFrequency\": 700e6,\n",
    "  \"systemBandwidth\": 20e6,\n",
    "  \"layout\": \"hexagonal_grid\",\n",
    "  \"isd\": 1732,\n",
    "  \n",
    "  \"numSites\": 19,\n",
    "  \"numSectors\": 3,\n",
    "  \"antennaHeight\": 35,\n",
    "  \"cellRadius\": 1000,\n",
    "  \n",
    "  \"numUEs\": 100,\n",
    "  \"userDistribution\": \"mixed_outdoor_indoor\",\n",
    "  \"ueSpeed\": 120,\n",
    "  \"indoorRatio\": 0.5,\n",
    "  \"outdoorSpeed\": 120,\n",
    "  \n",
    "  \"minTxPower\": 20,\n",
    "  \"maxTxPower\": 46,\n",
    "  \"basePower\": 1200,\n",
    "  \"idlePower\": 300,\n",
    "  \n",
    "  \"simTime\": 0,\n",
    "  \"timeStep\": 1,\n",
    "  \n",
    "  \"rsrpServingThreshold\": -115,\n",
    "  \"rsrpTargetThreshold\": -105,\n",
    "  \"rsrpMeasurementThreshold\": -120,\n",
    "  \"dropCallThreshold\": 2,\n",
    "  \"latencyThreshold\": 100,\n",
    "  \"cpuThreshold\": 90,\n",
    "  \"prbThreshold\": 90,\n",
    "  \n",
    "  \"trafficLambda\": 10,\n",
    "  \"peakHourMultiplier\": 1.2\n",
    "}"
   ]
  },
  {
   "cell_type": "markdown",
   "id": "ffa05f7a",
   "metadata": {
    "papermill": {
     "duration": 0.003244,
     "end_time": "2025-10-24T07:56:44.690910",
     "exception": false,
     "start_time": "2025-10-24T07:56:44.687666",
     "status": "completed"
    },
    "tags": []
   },
   "source": [
    "# Train"
   ]
  },
  {
   "cell_type": "code",
   "execution_count": 3,
   "id": "e40a29ed",
   "metadata": {
    "execution": {
     "iopub.execute_input": "2025-10-24T07:56:44.698841Z",
     "iopub.status.busy": "2025-10-24T07:56:44.698547Z",
     "iopub.status.idle": "2025-10-24T18:00:01.159141Z",
     "shell.execute_reply": "2025-10-24T18:00:01.157535Z"
    },
    "papermill": {
     "duration": 36196.466752,
     "end_time": "2025-10-24T18:00:01.161033",
     "exception": false,
     "start_time": "2025-10-24T07:56:44.694281",
     "status": "completed"
    },
    "tags": []
   },
   "outputs": [
    {
     "name": "stdout",
     "output_type": "stream",
     "text": [
      "/home/huy/anaconda3/envs/mira/lib/python3.10/site-packages/torch/cuda/__init__.py:61: FutureWarning: The pynvml package is deprecated. Please install nvidia-ml-py instead. If you did not install pynvml directly, please report this to the maintainers of the package that installed pynvml for you.\n",
      "  import pynvml  # type: ignore[import]\n",
      "\n",
      "=== Running Benchmark Suite (3 scenarios) ===\n",
      "\n",
      "\n",
      "--- Scenario 1/3: dense_urban ---\n",
      "Loaded scenario: Dense Urban\n",
      "2025-10-25 04:02:33,493 - PPOAgent - INFO - PPO Agent initialized: 21 cells, 300 UEs\n",
      "2025-10-25 04:02:33,493 - PPOAgent - INFO - State dim: 1441, Action dim: 100\n",
      "2025-10-25 04:02:33,493 - PPOAgent - INFO - Device: cuda\n",
      "2025-10-25 04:02:33,493 - PPOAgent - INFO - No checkpoint found at app/energy_agent/models/ppo_rnn_model_last.pth\n",
      "Created 7 sites for dense_urban scenario\n",
      "Configuring cells for dense_urban scenario...\n",
      "Configured 21 cells for dense_urban scenario\n",
      "Initialized 300 UEs for dense_urban scenario\n",
      "Starting scenario...\n",
      "2025-10-25 04:02:54,501 - PPOAgent - INFO - Episode =1,\n",
      "Episode Reward=-108.60,\n",
      "Drop Penalty=-53.94,\n",
      "Latency Penalty=0.00,\n",
      "CPU Penalty=0.00,\n",
      "PRB Penalty=0.00,\n",
      "Drop Improvement=-0.59,\n",
      "Latency Improvement=0.00,\n",
      "Energy Efficiency Reward=-47.07,\n",
      "Energy Consumption Penalty=-7.00,\n",
      "\n",
      "2025-10-25 04:02:54,997 - PPOAgent - INFO - Epoch 1/8: Actor loss=-0.0009, Critic loss=108503.9609\n",
      "2025-10-25 04:02:55,042 - PPOAgent - INFO - Epoch 2/8: Actor loss=-0.0025, Critic loss=108116.0547\n",
      "2025-10-25 04:02:55,094 - PPOAgent - INFO - Epoch 3/8: Actor loss=-0.0041, Critic loss=107831.5000\n",
      "2025-10-25 04:02:55,144 - PPOAgent - INFO - Epoch 4/8: Actor loss=-0.0057, Critic loss=107610.2734\n",
      "2025-10-25 04:02:55,191 - PPOAgent - INFO - Epoch 5/8: Actor loss=-0.0074, Critic loss=107446.5000\n",
      "2025-10-25 04:02:55,238 - PPOAgent - INFO - Epoch 6/8: Actor loss=-0.0092, Critic loss=107324.4375\n",
      "2025-10-25 04:02:55,300 - PPOAgent - INFO - Epoch 7/8: Actor loss=-0.0112, Critic loss=107225.9766\n",
      "2025-10-25 04:02:55,347 - PPOAgent - INFO - Epoch 8/8: Actor loss=-0.0132, Critic loss=107143.2109\n",
      "2025-10-25 04:02:55,348 - PPOAgent - INFO - Training completed: Actor loss=-0.0132, Critic loss=107143.2109\n",
      "Starting episode: 2\n",
      "2025-10-25 04:03:14,406 - PPOAgent - INFO - Episode =2,\n",
      "Episode Reward=-58.27,\n",
      "Drop Penalty=-51.57,\n",
      "Latency Penalty=0.00,\n",
      "CPU Penalty=0.00,\n",
      "PRB Penalty=0.00,\n",
      "Drop Improvement=-0.93,\n",
      "Latency Improvement=0.00,\n",
      "Energy Efficiency Reward=1.35,\n",
      "Energy Consumption Penalty=-7.13,\n",
      "\n",
      "2025-10-25 04:03:14,454 - PPOAgent - INFO - Epoch 1/8: Actor loss=-0.0009, Critic loss=43981.8633\n",
      "2025-10-25 04:03:14,499 - PPOAgent - INFO - Epoch 2/8: Actor loss=-0.0015, Critic loss=43927.3242\n",
      "2025-10-25 04:03:14,546 - PPOAgent - INFO - Epoch 3/8: Actor loss=-0.0025, Critic loss=43879.4336\n",
      "2025-10-25 04:03:14,593 - PPOAgent - INFO - Epoch 4/8: Actor loss=-0.0037, Critic loss=43842.0664\n",
      "2025-10-25 04:03:14,640 - PPOAgent - INFO - Epoch 5/8: Actor loss=-0.0053, Critic loss=43811.1992\n",
      "2025-10-25 04:03:14,685 - PPOAgent - INFO - Epoch 6/8: Actor loss=-0.0069, Critic loss=43782.7734\n",
      "2025-10-25 04:03:14,730 - PPOAgent - INFO - Epoch 7/8: Actor loss=-0.0086, Critic loss=43755.3203\n",
      "2025-10-25 04:03:14,775 - PPOAgent - INFO - Epoch 8/8: Actor loss=-0.0104, Critic loss=43728.6445\n",
      "2025-10-25 04:03:14,775 - PPOAgent - INFO - Training completed: Actor loss=-0.0104, Critic loss=43728.6445\n",
      "Starting episode: 3\n",
      "2025-10-25 04:03:34,283 - PPOAgent - INFO - Episode =3,\n",
      "Episode Reward=-59.03,\n",
      "Drop Penalty=-52.56,\n",
      "Latency Penalty=0.00,\n",
      "CPU Penalty=0.00,\n",
      "PRB Penalty=0.00,\n",
      "Drop Improvement=0.48,\n",
      "Latency Improvement=0.00,\n",
      "Energy Efficiency Reward=0.16,\n",
      "Energy Consumption Penalty=-7.10,\n",
      "\n",
      "2025-10-25 04:03:34,333 - PPOAgent - INFO - Epoch 1/8: Actor loss=-0.0009, Critic loss=44983.9453\n",
      "2025-10-25 04:03:34,382 - PPOAgent - INFO - Epoch 2/8: Actor loss=-0.0021, Critic loss=44958.7812\n",
      "2025-10-25 04:03:34,432 - PPOAgent - INFO - Epoch 3/8: Actor loss=-0.0037, Critic loss=44934.8203\n",
      "2025-10-25 04:03:34,493 - PPOAgent - INFO - Epoch 4/8: Actor loss=-0.0056, Critic loss=44913.0859\n",
      "2025-10-25 04:03:34,559 - PPOAgent - INFO - Epoch 5/8: Actor loss=-0.0080, Critic loss=44892.8242\n",
      "2025-10-25 04:03:34,614 - PPOAgent - INFO - Epoch 6/8: Actor loss=-0.0106, Critic loss=44874.1953\n",
      "2025-10-25 04:03:34,662 - PPOAgent - INFO - Epoch 7/8: Actor loss=-0.0136, Critic loss=44857.3945\n",
      "2025-10-25 04:03:34,712 - PPOAgent - INFO - Epoch 8/8: Actor loss=-0.0168, Critic loss=44842.3672\n",
      "2025-10-25 04:03:34,712 - PPOAgent - INFO - Training completed: Actor loss=-0.0168, Critic loss=44842.3672\n",
      "Starting episode: 4\n",
      "2025-10-25 04:03:54,222 - PPOAgent - INFO - Episode =4,\n",
      "Episode Reward=-54.42,\n",
      "Drop Penalty=-46.79,\n",
      "Latency Penalty=0.00,\n",
      "CPU Penalty=0.00,\n",
      "PRB Penalty=0.00,\n",
      "Drop Improvement=-0.06,\n",
      "Latency Improvement=0.00,\n",
      "Energy Efficiency Reward=-0.49,\n",
      "Energy Consumption Penalty=-7.08,\n",
      "\n",
      "2025-10-25 04:03:54,270 - PPOAgent - INFO - Epoch 1/8: Actor loss=-0.0009, Critic loss=41174.3867\n",
      "2025-10-25 04:03:54,314 - PPOAgent - INFO - Epoch 2/8: Actor loss=-0.0033, Critic loss=41162.3750\n",
      "2025-10-25 04:03:54,360 - PPOAgent - INFO - Epoch 3/8: Actor loss=-0.0062, Critic loss=41150.9609\n",
      "2025-10-25 04:03:54,407 - PPOAgent - INFO - Epoch 4/8: Actor loss=-0.0095, Critic loss=41140.0430\n",
      "2025-10-25 04:03:54,455 - PPOAgent - INFO - Epoch 5/8: Actor loss=-0.0132, Critic loss=41129.6641\n",
      "2025-10-25 04:03:54,500 - PPOAgent - INFO - Epoch 6/8: Actor loss=-0.0170, Critic loss=41119.9883\n",
      "2025-10-25 04:03:54,546 - PPOAgent - INFO - Epoch 7/8: Actor loss=-0.0210, Critic loss=41111.0898\n",
      "2025-10-25 04:03:54,592 - PPOAgent - INFO - Epoch 8/8: Actor loss=-0.0251, Critic loss=41102.8711\n",
      "2025-10-25 04:03:54,592 - PPOAgent - INFO - Training completed: Actor loss=-0.0251, Critic loss=41102.8711\n",
      "Starting episode: 5\n",
      "Traceback (most recent call last):\n",
      "  File \"/home/huy/Project/public_1/5GEnergySaving-Round1-public/app/main_run_scenarios_python.py\", line 172, in <module>\n",
      "    main(scenarios_dir=args.scenarios_dir, base_seed=args.base_seed)\n",
      "  File \"/home/huy/Project/public_1/5GEnergySaving-Round1-public/app/main_run_scenarios_python.py\", line 61, in main\n",
      "    results = run_scenario_with_rl_agent(scenario=name, seed=seed, scenarios_dir=scenarios_dir)\n",
      "  File \"/home/huy/Project/public_1/5GEnergySaving-Round1-public/app/main_run_scenarios_python.py\", line 132, in run_scenario_with_rl_agent\n",
      "    next_state, reward, done, truncated, info = env.step(action)\n",
      "  File \"/home/huy/Project/public_1/5GEnergySaving-Round1-public/app/simulation/environment.py\", line 118, in step\n",
      "    update_signal_measurements(\n",
      "  File \"/home/huy/Project/public_1/5GEnergySaving-Round1-public/app/simulation/signal_measurement.py\", line 21, in update_signal_measurements\n",
      "    path_loss = calculate_path_loss(distance, cell.frequency, ue.id, current_time, seed)\n",
      "  File \"/home/huy/Project/public_1/5GEnergySaving-Round1-public/app/simulation/path_loss.py\", line 45, in calculate_path_loss\n",
      "    path_loss = 32.4 + 21*np.log10(distance) + 20*np.log10(fc)\n",
      "KeyboardInterrupt\n",
      "^C\n"
     ]
    }
   ],
   "source": [
    "!python3 app/main_run_scenarios_python.py --scenarios-dir app/train_scenarios"
   ]
  },
  {
   "cell_type": "markdown",
   "id": "223935bd",
   "metadata": {
    "papermill": {
     "duration": 0.38983,
     "end_time": "2025-10-24T18:00:01.953950",
     "exception": false,
     "start_time": "2025-10-24T18:00:01.564120",
     "status": "completed"
    },
    "tags": []
   },
   "source": [
    "# Test"
   ]
  },
  {
   "cell_type": "code",
   "execution_count": 6,
   "id": "db077b13",
   "metadata": {
    "execution": {
     "iopub.execute_input": "2025-10-24T18:00:02.725527Z",
     "iopub.status.busy": "2025-10-24T18:00:02.724998Z",
     "iopub.status.idle": "2025-10-24T18:00:02.733316Z",
     "shell.execute_reply": "2025-10-24T18:00:02.732450Z"
    },
    "papermill": {
     "duration": 0.392154,
     "end_time": "2025-10-24T18:00:02.735153",
     "exception": false,
     "start_time": "2025-10-24T18:00:02.342999",
     "status": "completed"
    },
    "tags": []
   },
   "outputs": [
    {
     "name": "stdout",
     "output_type": "stream",
     "text": [
      "Overwriting app/energy_agent/config.yaml\n"
     ]
    }
   ],
   "source": [
    "%%writefile app/energy_agent/config.yaml\n",
    "training_mode: False\n",
    "use_gpu: True\n",
    "checkpoint_path: \"app/energy_agent/models/ppo_rnn_model_last.pth\"\n",
    "\n",
    "actor_lr: 0.0001\n",
    "critic_lr: 0.0003\n",
    "\n",
    "energy_coeff: 0.1\n",
    "drop_magnitude_penalty_coef: 1.0\n",
    "latency_magnitude_penalty_coef: 1.0\n",
    "cpu_magnitude_penalty_coef: 1.0\n",
    "prb_magnitude_penalty_coef: 1.0\n",
    "improvement_coeff: 5.0\n",
    "\n",
    "violation_event_penalty: -50.0\n",
    "energy_consumption_penalty: -1000.0\n",
    "\n",
    "entropy_coef: 0.001\n",
    "gamma: 0.99\n",
    "lambda_gae: 0.95\n",
    "clip_epsilon: 0.2\n",
    "ppo_epochs: 8\n",
    "batch_size: 64\n",
    "chunk_len: 32\n",
    "buffer_size: 10\n",
    "hidden_dim: 256"
   ]
  },
  {
   "cell_type": "code",
   "execution_count": 7,
   "id": "76ec4f7f",
   "metadata": {
    "execution": {
     "iopub.execute_input": "2025-10-24T18:00:03.498799Z",
     "iopub.status.busy": "2025-10-24T18:00:03.497613Z",
     "iopub.status.idle": "2025-10-24T19:20:33.547180Z",
     "shell.execute_reply": "2025-10-24T19:20:33.546101Z"
    },
    "papermill": {
     "duration": 4830.43195,
     "end_time": "2025-10-24T19:20:33.548899",
     "exception": false,
     "start_time": "2025-10-24T18:00:03.116949",
     "status": "completed"
    },
    "tags": []
   },
   "outputs": [
    {
     "name": "stdout",
     "output_type": "stream",
     "text": [
      "/home/huy/anaconda3/envs/mira/lib/python3.10/site-packages/torch/cuda/__init__.py:61: FutureWarning: The pynvml package is deprecated. Please install nvidia-ml-py instead. If you did not install pynvml directly, please report this to the maintainers of the package that installed pynvml for you.\n",
      "  import pynvml  # type: ignore[import]\n",
      "\n",
      "=== Running Benchmark Suite (3 scenarios) ===\n",
      "\n",
      "\n",
      "--- Scenario 1/3: dense_urban ---\n",
      "Loaded scenario: Dense Urban\n",
      "2025-10-25 04:04:41,142 - PPOAgent - INFO - PPO Agent initialized: 21 cells, 300 UEs\n",
      "2025-10-25 04:04:41,142 - PPOAgent - INFO - State dim: 1441, Action dim: 100\n",
      "2025-10-25 04:04:41,142 - PPOAgent - INFO - Device: cuda\n",
      "2025-10-25 04:04:41,142 - PPOAgent - INFO - No checkpoint found at app/energy_agent/models/ppo_rnn_model_last.pth\n",
      "Created 7 sites for dense_urban scenario\n",
      "Configuring cells for dense_urban scenario...\n",
      "Configured 21 cells for dense_urban scenario\n",
      "Initialized 300 UEs for dense_urban scenario\n",
      "Starting scenario...\n",
      "Traceback (most recent call last):\n",
      "  File \"/home/huy/Project/public_1/5GEnergySaving-Round1-public/app/main_run_scenarios_python.py\", line 172, in <module>\n",
      "    main(scenarios_dir=args.scenarios_dir, base_seed=args.base_seed)\n",
      "  File \"/home/huy/Project/public_1/5GEnergySaving-Round1-public/app/main_run_scenarios_python.py\", line 61, in main\n",
      "    results = run_scenario_with_rl_agent(scenario=name, seed=seed, scenarios_dir=scenarios_dir)\n",
      "  File \"/home/huy/Project/public_1/5GEnergySaving-Round1-public/app/main_run_scenarios_python.py\", line 132, in run_scenario_with_rl_agent\n",
      "    next_state, reward, done, truncated, info = env.step(action)\n",
      "  File \"/home/huy/Project/public_1/5GEnergySaving-Round1-public/app/simulation/environment.py\", line 118, in step\n",
      "    update_signal_measurements(\n",
      "  File \"/home/huy/Project/public_1/5GEnergySaving-Round1-public/app/simulation/signal_measurement.py\", line 25, in update_signal_measurements\n",
      "    rng = np.random.RandomState(rsrp_seed)\n",
      "KeyboardInterrupt\n",
      "^C\n"
     ]
    }
   ],
   "source": [
    "!python3 app/main_run_scenarios_python.py --scenarios-dir app/test_scenarios"
   ]
  }
 ],
 "metadata": {
  "kaggle": {
   "accelerator": "none",
   "dataSources": [],
   "dockerImageVersionId": 31153,
   "isGpuEnabled": false,
   "isInternetEnabled": true,
   "language": "python",
   "sourceType": "notebook"
  },
  "kernelspec": {
   "display_name": "mira",
   "language": "python",
   "name": "python3"
  },
  "language_info": {
   "codemirror_mode": {
    "name": "ipython",
    "version": 3
   },
   "file_extension": ".py",
   "mimetype": "text/x-python",
   "name": "python",
   "nbconvert_exporter": "python",
   "pygments_lexer": "ipython3",
   "version": "3.10.12"
  },
  "papermill": {
   "default_parameters": {},
   "duration": 41037.499225,
   "end_time": "2025-10-24T19:20:34.343328",
   "environment_variables": {},
   "exception": null,
   "input_path": "__notebook__.ipynb",
   "output_path": "__notebook__.ipynb",
   "parameters": {},
   "start_time": "2025-10-24T07:56:36.844103",
   "version": "2.6.0"
  }
 },
 "nbformat": 4,
 "nbformat_minor": 5
}
