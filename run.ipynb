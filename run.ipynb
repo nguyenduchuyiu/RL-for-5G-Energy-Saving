{
 "cells": [
  {
   "cell_type": "code",
   "execution_count": 1,
   "metadata": {},
   "outputs": [
    {
     "name": "stdout",
     "output_type": "stream",
     "text": [
      "fatal: destination path 'RL-for-5G-Energy-Saving' already exists and is not an empty directory.\n"
     ]
    }
   ],
   "source": [
    "!git clone https://github.com/nguyenduchuyiu/RL-for-5G-Energy-Saving.git"
   ]
  },
  {
   "cell_type": "code",
   "execution_count": 2,
   "metadata": {},
   "outputs": [
    {
     "name": "stdout",
     "output_type": "stream",
     "text": [
      "/home/huy/Project/public_1/5GEnergySaving-Round1-public/RL-for-5G-Energy-Saving\n"
     ]
    }
   ],
   "source": [
    "%cd RL-for-5G-Energy-Saving"
   ]
  },
  {
   "cell_type": "code",
   "execution_count": 6,
   "metadata": {},
   "outputs": [
    {
     "name": "stdout",
     "output_type": "stream",
     "text": [
      "Overwriting app/energy_agent/config.yaml\n"
     ]
    }
   ],
   "source": [
    "%%writefile app/energy_agent/config.yaml\n",
    "training_mode: True\n",
    "use_gpu: True\n",
    "checkpoint_path: \"app/energy_agent/models/ppo_model.pth\"\n",
    "\n",
    "actor_lr: 0.0001\n",
    "critic_lr: 0.0003\n",
    "\n",
    "qos_grad_coeff: 10.0\n",
    "energy_grad_coeff: 5.0\n",
    "cpu_grad_coeff: 1.0\n",
    "prb_grad_coeff: 1.0\n",
    "stability_penalty: -10.0\n",
    "energy_consumption_penalty: -100.0\n",
    "violation_penalty: -50.0\n",
    "baseline_reward: 10.0\n",
    "\n",
    "entropy_coef: 0.01\n",
    "gamma: 0.99\n",
    "lambda_gae: 0.95\n",
    "clip_epsilon: 0.2\n",
    "ppo_epochs: 8\n",
    "batch_size: 16\n",
    "buffer_size: 64\n",
    "n_envs: 4\n",
    "hidden_dim: 256"
   ]
  },
  {
   "cell_type": "code",
   "execution_count": 7,
   "metadata": {},
   "outputs": [
    {
     "name": "stdout",
     "output_type": "stream",
     "text": [
      "Overwriting app/train_scenarios/dense_urban.json\n"
     ]
    }
   ],
   "source": [
    "%%writefile app/train_scenarios/dense_urban.json\n",
    "{\n",
    "  \"name\": \"Dense Urban\",\n",
    "  \"description\": \"3GPP Dense urban with macro and micro cells\",\n",
    "  \"deploymentScenario\": \"dense_urban\",\n",
    "  \n",
    "  \"carrierFrequency\": 4e9,\n",
    "  \"systemBandwidth\": 200e6,\n",
    "  \"layout\": \"two_layer\",\n",
    "  \"isd\": 200,\n",
    "  \n",
    "  \"numSites\": 7,\n",
    "  \"numSectors\": 3,\n",
    "  \"antennaHeight\": 25,\n",
    "  \"cellRadius\": 200,\n",
    "  \n",
    "  \"numUEs\": 300,\n",
    "  \"userDistribution\": \"Uniform/macro\",\n",
    "  \"ueSpeed\": 3,\n",
    "  \"indoorRatio\": 0.8,\n",
    "  \"outdoorSpeed\": 30,\n",
    "  \n",
    "  \"minTxPower\": 10,\n",
    "  \"maxTxPower\": 46,\n",
    "  \"basePower\": 1000,\n",
    "  \"idlePower\": 250,\n",
    "  \n",
    "  \"simTime\": 512,\n",
    "  \"timeStep\": 1,\n",
    "  \n",
    "  \"rsrpServingThreshold\": -110,\n",
    "  \"rsrpTargetThreshold\": -100,\n",
    "  \"rsrpMeasurementThreshold\": -115,\n",
    "  \"dropCallThreshold\": 1,\n",
    "  \"latencyThreshold\": 50,\n",
    "  \"cpuThreshold\": 95,\n",
    "  \"prbThreshold\": 95,\n",
    "  \n",
    "  \"trafficLambda\": 20,\n",
    "  \"peakHourMultiplier\": 1.3\n",
    "}"
   ]
  },
  {
   "cell_type": "code",
   "execution_count": 8,
   "metadata": {},
   "outputs": [
    {
     "name": "stdout",
     "output_type": "stream",
     "text": [
      "Overwriting app/train_scenarios/urban_macro.json\n"
     ]
    }
   ],
   "source": [
    "%%writefile app/train_scenarios/urban_macro.json\n",
    "    {\n",
    "  \"name\": \"3GPP Urban Macro\",\n",
    "  \"description\": \"3GPP Urban macro deployment scenario with large cells and continuous coverage\",\n",
    "  \"deploymentScenario\": \"urban_macro\",\n",
    "  \n",
    "  \"carrierFrequency\": 2e9,\n",
    "  \"systemBandwidth\": 100e6,\n",
    "  \"layout\": \"hexagonal_grid\",\n",
    "  \"isd\": 500,\n",
    "  \n",
    "  \"numSites\": 7,\n",
    "  \"numSectors\": 3,\n",
    "  \"antennaHeight\": 25,\n",
    "  \"cellRadius\": 200,\n",
    "  \n",
    "  \"numUEs\": 300,\n",
    "  \"userDistribution\": \"mixed_outdoor_indoor\",\n",
    "  \"ueSpeed\": 30,\n",
    "  \"indoorRatio\": 0.8,\n",
    "  \"outdoorSpeed\": 30,\n",
    "  \n",
    "  \"minTxPower\": 20,\n",
    "  \"maxTxPower\": 46,\n",
    "  \"basePower\": 1000,\n",
    "  \"idlePower\": 250,\n",
    "  \n",
    "  \"simTime\": 0,\n",
    "  \"timeStep\": 1,\n",
    "  \n",
    "  \"rsrpServingThreshold\": -110,\n",
    "  \"rsrpTargetThreshold\": -100,\n",
    "  \"rsrpMeasurementThreshold\": -115,\n",
    "  \"dropCallThreshold\": 1,\n",
    "  \"latencyThreshold\": 50,\n",
    "  \"cpuThreshold\": 95,\n",
    "  \"prbThreshold\": 95,\n",
    "  \n",
    "  \"trafficLambda\": 25,\n",
    "  \"peakHourMultiplier\": 1.8\n",
    "}"
   ]
  },
  {
   "cell_type": "code",
   "execution_count": 9,
   "metadata": {},
   "outputs": [
    {
     "name": "stdout",
     "output_type": "stream",
     "text": [
      "Overwriting app/train_scenarios/rural.json\n"
     ]
    }
   ],
   "source": [
    "%%writefile app/train_scenarios/rural.json\n",
    "{\n",
    "  \"name\": \"3GPP Rural Macro\",\n",
    "  \"description\": \"3GPP Rural deployment scenario with wide area coverage for high speed vehicles\",\n",
    "  \"deploymentScenario\": \"rural\",\n",
    "  \n",
    "  \"carrierFrequency\": 700e6,\n",
    "  \"systemBandwidth\": 20e6,\n",
    "  \"layout\": \"hexagonal_grid\",\n",
    "  \"isd\": 1732,\n",
    "  \n",
    "  \"numSites\": 19,\n",
    "  \"numSectors\": 3,\n",
    "  \"antennaHeight\": 35,\n",
    "  \"cellRadius\": 1000,\n",
    "  \n",
    "  \"numUEs\": 100,\n",
    "  \"userDistribution\": \"mixed_outdoor_indoor\",\n",
    "  \"ueSpeed\": 120,\n",
    "  \"indoorRatio\": 0.5,\n",
    "  \"outdoorSpeed\": 120,\n",
    "  \n",
    "  \"minTxPower\": 20,\n",
    "  \"maxTxPower\": 46,\n",
    "  \"basePower\": 1200,\n",
    "  \"idlePower\": 300,\n",
    "  \n",
    "  \"simTime\": 0,\n",
    "  \"timeStep\": 1,\n",
    "  \n",
    "  \"rsrpServingThreshold\": -115,\n",
    "  \"rsrpTargetThreshold\": -105,\n",
    "  \"rsrpMeasurementThreshold\": -120,\n",
    "  \"dropCallThreshold\": 2,\n",
    "  \"latencyThreshold\": 100,\n",
    "  \"cpuThreshold\": 90,\n",
    "  \"prbThreshold\": 90,\n",
    "  \n",
    "  \"trafficLambda\": 10,\n",
    "  \"peakHourMultiplier\": 1.2\n",
    "}"
   ]
  },
  {
   "cell_type": "markdown",
   "metadata": {},
   "source": [
    "# Train"
   ]
  },
  {
   "cell_type": "code",
   "execution_count": null,
   "metadata": {},
   "outputs": [
    {
     "name": "stdout",
     "output_type": "stream",
     "text": [
      "/home/huy/anaconda3/envs/mira/lib/python3.10/site-packages/torch/cuda/__init__.py:61: FutureWarning: The pynvml package is deprecated. Please install nvidia-ml-py instead. If you did not install pynvml directly, please report this to the maintainers of the package that installed pynvml for you.\n",
      "  import pynvml  # type: ignore[import]\n",
      "\n",
      "=== Running Benchmark Suite (3 scenarios) ===\n",
      "\n",
      "\n",
      "--- Scenario 1/3: dense_urban ---\n",
      "Loaded scenario: Dense Urban\n",
      "2025-10-28 08:52:05,773 - PPOAgent - INFO - PPO Agent initialized: 21 cells, 300 UEs\n",
      "2025-10-28 08:52:05,773 - PPOAgent - INFO - State dim: 1445, Action dim: 100\n",
      "2025-10-28 08:52:05,773 - PPOAgent - INFO - Device: cuda\n",
      "2025-10-28 08:52:05,773 - PPOAgent - INFO - No checkpoint found at app/energy_agent/models/ppo_model.pth\n",
      "Created 7 sites for dense_urban scenario\n",
      "Configuring cells for dense_urban scenario...\n",
      "Configured 21 cells for dense_urban scenario\n",
      "Initialized 300 UEs for dense_urban scenario\n",
      "===================Starting scenario===================\n",
      "Starting episode: 1\n",
      "total_reward:  -1.42857 \n",
      "drop_improvement:  10.00000 \n",
      "latency_improvement:  0.00000 \n",
      "cpu_improvement:  0.00000 \n",
      "prb_improvement:  0.00000 \n",
      "energy_efficiency_reward:  0.00000 \n",
      "stability_penalty:  0.00000 \n",
      "violation_penalty:  -11.42857 \n",
      "energy_consumption_penalty:  0.00000 \n",
      "warning_reward:  0.00000\n",
      "total_reward:  -95.58386 \n",
      "drop_improvement:  -2.77655 \n",
      "latency_improvement:  0.00000 \n",
      "cpu_improvement:  0.01750 \n",
      "prb_improvement:  -0.02842 \n",
      "energy_efficiency_reward:  0.00000 \n",
      "stability_penalty:  0.00000 \n",
      "violation_penalty:  -95.29638 \n",
      "energy_consumption_penalty:  0.00000 \n",
      "warning_reward:  2.50000\n",
      "Step 50/512: Energy: 0.354 kWh, Power: 25.5 kW, Drop Rate: 1.41%\n",
      "Drop rate violation: 1.41% > 1%\n",
      "2025-10-28 08:55:10,358 - PPOAgent - INFO - Training completed: Actor loss=-0.2794, Critic loss=523287.7812, Entropy=19.5461\n",
      "Starting episode: 2\n",
      "Step 100/512: Energy: 0.708 kWh, Power: 25.6 kW, Drop Rate: 1.03%\n",
      "Drop rate violation: 1.03% > 1%\n",
      "total_reward:  -10.28829 \n",
      "drop_improvement:  1.14029 \n",
      "latency_improvement:  0.00000 \n",
      "cpu_improvement:  0.00000 \n",
      "prb_improvement:  0.00000 \n",
      "energy_efficiency_reward:  0.00000 \n",
      "stability_penalty:  0.00000 \n",
      "violation_penalty:  -11.42858 \n",
      "energy_consumption_penalty:  0.00000 \n",
      "warning_reward:  0.00000\n",
      "total_reward:  -65.31879 \n",
      "drop_improvement:  -7.58072 \n",
      "latency_improvement:  0.00000 \n",
      "cpu_improvement:  0.00000 \n",
      "prb_improvement:  0.00000 \n",
      "energy_efficiency_reward:  0.00000 \n",
      "stability_penalty:  0.00000 \n",
      "violation_penalty:  -60.23807 \n",
      "energy_consumption_penalty:  0.00000 \n",
      "warning_reward:  2.50000\n",
      "2025-10-28 08:58:14,288 - PPOAgent - INFO - Training completed: Actor loss=-0.1641, Critic loss=415326.3125, Entropy=19.5080\n",
      "Starting episode: 3\n",
      "Step 150/512: Energy: 1.062 kWh, Power: 25.6 kW, Drop Rate: 1.03%\n",
      "Drop rate violation: 1.03% > 1%\n",
      "2025-10-28 09:01:17,918 - PPOAgent - INFO - Training completed: Actor loss=0.1225, Critic loss=255264.9219, Entropy=19.2204\n",
      "Starting episode: 4\n",
      "Step 200/512: Energy: 1.417 kWh, Power: 25.5 kW, Drop Rate: 1.79%\n",
      "Drop rate violation: 1.79% > 1%\n",
      "Step 250/512: Energy: 1.772 kWh, Power: 25.7 kW, Drop Rate: 2.08%\n",
      "Drop rate violation: 2.08% > 1%\n",
      "total_reward:  -46.33707 \n",
      "drop_improvement:  9.34157 \n",
      "latency_improvement:  0.00000 \n",
      "cpu_improvement:  0.00000 \n",
      "prb_improvement:  0.00000 \n",
      "energy_efficiency_reward:  0.00000 \n",
      "stability_penalty:  0.00000 \n",
      "violation_penalty:  -55.67864 \n",
      "energy_consumption_penalty:  0.00000 \n",
      "warning_reward:  0.00000\n",
      "2025-10-28 09:04:23,188 - PPOAgent - INFO - Training completed: Actor loss=-0.0870, Critic loss=143471.6250, Entropy=19.1959\n",
      "Starting episode: 5\n",
      "total_reward:  -111.24221 \n",
      "drop_improvement:  -4.05695 \n",
      "latency_improvement:  0.00000 \n",
      "cpu_improvement:  0.00000 \n",
      "prb_improvement:  0.00000 \n",
      "energy_efficiency_reward:  0.00000 \n",
      "stability_penalty:  0.00000 \n",
      "violation_penalty:  -107.18526 \n",
      "energy_consumption_penalty:  0.00000 \n",
      "warning_reward:  0.00000\n",
      "Step 300/512: Energy: 2.126 kWh, Power: 25.6 kW, Drop Rate: 2.84%\n",
      "Drop rate violation: 2.84% > 1%\n",
      "2025-10-28 09:07:27,037 - PPOAgent - INFO - Training completed: Actor loss=-0.4927, Critic loss=185686.3750, Entropy=19.0354\n",
      "Starting episode: 6\n",
      "total_reward:  -52.50972 \n",
      "drop_improvement:  -2.53439 \n",
      "latency_improvement:  0.00000 \n",
      "cpu_improvement:  0.00000 \n",
      "prb_improvement:  0.00000 \n",
      "energy_efficiency_reward:  0.00000 \n",
      "stability_penalty:  0.00000 \n",
      "violation_penalty:  -49.97534 \n",
      "energy_consumption_penalty:  0.00000 \n",
      "warning_reward:  0.00000\n",
      "Step 350/512: Energy: 2.480 kWh, Power: 25.3 kW, Drop Rate: 1.99%\n",
      "Drop rate violation: 1.99% > 1%\n",
      "2025-10-28 09:10:30,632 - PPOAgent - INFO - Training completed: Actor loss=0.4103, Critic loss=94393.4453, Entropy=18.8778\n",
      "Starting episode: 7\n",
      "total_reward:  -53.70253 \n",
      "drop_improvement:  5.83074 \n",
      "latency_improvement:  0.00000 \n",
      "cpu_improvement:  0.08908 \n",
      "prb_improvement:  0.03368 \n",
      "energy_efficiency_reward:  0.00000 \n",
      "stability_penalty:  0.00000 \n",
      "violation_penalty:  -62.15603 \n",
      "energy_consumption_penalty:  0.00000 \n",
      "warning_reward:  2.50000\n",
      "Step 400/512: Energy: 2.834 kWh, Power: 25.4 kW, Drop Rate: 3.02%\n",
      "Drop rate violation: 3.02% > 1%\n",
      "total_reward:  -119.55817 \n",
      "drop_improvement:  -8.49779 \n",
      "latency_improvement:  0.00000 \n",
      "cpu_improvement:  0.00000 \n",
      "prb_improvement:  0.00000 \n",
      "energy_efficiency_reward:  0.00000 \n",
      "stability_penalty:  0.00000 \n",
      "violation_penalty:  -111.06038 \n",
      "energy_consumption_penalty:  0.00000 \n",
      "warning_reward:  0.00000\n",
      "2025-10-28 09:13:33,825 - PPOAgent - INFO - Training completed: Actor loss=0.1903, Critic loss=141272.7812, Entropy=19.0027\n",
      "Step 450/512: Energy: 3.188 kWh, Power: 25.3 kW, Drop Rate: 2.59%\n",
      "Drop rate violation: 2.59% > 1%\n"
     ]
    }
   ],
   "source": [
    "import yaml\n",
    "with open('app/energy_agent/config.yaml') as f:\n",
    "    config = yaml.load(f, Loader=yaml.FullLoader)\n",
    "    num_envs = config['n_envs']\n",
    "\n",
    "!python3 app/main_run_scenarios_python.py --scenarios-dir app/train_scenarios"
   ]
  },
  {
   "cell_type": "markdown",
   "metadata": {},
   "source": [
    "# Test"
   ]
  },
  {
   "cell_type": "code",
   "execution_count": null,
   "metadata": {},
   "outputs": [
    {
     "name": "stdout",
     "output_type": "stream",
     "text": [
      "Overwriting app/energy_agent/config.yaml\n"
     ]
    }
   ],
   "source": [
    "%%writefile app/energy_agent/config.yaml\n",
    "training_mode: False\n",
    "use_gpu: True\n",
    "checkpoint_path: \"app/energy_agent/models/ppo_model.pth\"\n",
    "\n",
    "actor_lr: 0.0001\n",
    "critic_lr: 0.0003\n",
    "\n",
    "qos_grad_coeff: 10.0\n",
    "energy_grad_coeff: 5.0\n",
    "cpu_grad_coeff: 1.0\n",
    "prb_grad_coeff: 1.0\n",
    "stability_penalty: 2.0\n",
    "energy_consumption_penalty: 1000.0\n",
    "\n",
    "entropy_coef: 0.01\n",
    "gamma: 0.99\n",
    "lambda_gae: 0.95\n",
    "clip_epsilon: 0.2\n",
    "ppo_epochs: 8\n",
    "batch_size: 2\n",
    "buffer_size: 4\n",
    "n_envs: 4\n",
    "hidden_dim: 256"
   ]
  },
  {
   "cell_type": "code",
   "execution_count": 5,
   "metadata": {},
   "outputs": [
    {
     "name": "stdout",
     "output_type": "stream",
     "text": [
      "/home/huy/anaconda3/envs/mira/lib/python3.10/site-packages/torch/cuda/__init__.py:61: FutureWarning: The pynvml package is deprecated. Please install nvidia-ml-py instead. If you did not install pynvml directly, please report this to the maintainers of the package that installed pynvml for you.\n",
      "  import pynvml  # type: ignore[import]\n",
      "\n",
      "=== Running Benchmark Suite (3 scenarios) ===\n",
      "\n",
      "\n",
      "--- Scenario 1/3: dense_urban ---\n",
      "Loaded scenario: Dense Urban\n",
      "2025-10-28 01:28:35,257 - PPOAgent - INFO - PPO Agent initialized: 21 cells, 300 UEs\n",
      "2025-10-28 01:28:35,257 - PPOAgent - INFO - State dim: 1445, Action dim: 100\n",
      "2025-10-28 01:28:35,257 - PPOAgent - INFO - Device: cuda\n",
      "2025-10-28 01:28:35,257 - PPOAgent - INFO - No checkpoint found at app/energy_agent/models/ppo_model.pth\n",
      "Created 7 sites for dense_urban scenario\n",
      "Configuring cells for dense_urban scenario...\n",
      "Configured 21 cells for dense_urban scenario\n",
      "Initialized 300 UEs for dense_urban scenario\n",
      "===================Starting scenario===================\n",
      "Starting episode: 1\n",
      "Traceback (most recent call last):\n",
      "  File \"/home/huy/Project/public_1/5GEnergySaving-Round1-public/app/main_run_scenarios_python.py\", line 172, in <module>\n",
      "    main(scenarios_dir=args.scenarios_dir, base_seed=args.base_seed)\n",
      "  File \"/home/huy/Project/public_1/5GEnergySaving-Round1-public/app/main_run_scenarios_python.py\", line 61, in main\n",
      "    results = run_scenario_with_rl_agent(scenario=name, seed=seed, scenarios_dir=scenarios_dir)\n",
      "  File \"/home/huy/Project/public_1/5GEnergySaving-Round1-public/app/main_run_scenarios_python.py\", line 132, in run_scenario_with_rl_agent\n",
      "    next_state, reward, done, truncated, info = env.step(action)\n",
      "  File \"/home/huy/Project/public_1/5GEnergySaving-Round1-public/app/simulation/environment.py\", line 118, in step\n",
      "    update_signal_measurements(\n",
      "  File \"/home/huy/Project/public_1/5GEnergySaving-Round1-public/app/simulation/signal_measurement.py\", line 71, in update_signal_measurements\n",
      "    rng = np.random.RandomState(rsrp_seed)\n",
      "  File \"numpy/random/mtrand.pyx\", line 185, in numpy.random.mtrand.RandomState.__init__\n",
      "  File \"_mt19937.pyx\", line 132, in numpy.random._mt19937.MT19937.__init__\n",
      "  File \"/home/huy/anaconda3/envs/mira/lib/python3.10/site-packages/numpy/_core/_ufunc_config.py\", line 479, in inner\n",
      "    return func(*args, **kwargs)\n",
      "KeyboardInterrupt\n",
      "^C\n"
     ]
    }
   ],
   "source": [
    "!python3 app/main_run_scenarios_python.py --scenarios-dir app/test_scenarios"
   ]
  }
 ],
 "metadata": {
  "kaggle": {
   "accelerator": "none",
   "dataSources": [],
   "dockerImageVersionId": 31153,
   "isGpuEnabled": false,
   "isInternetEnabled": true,
   "language": "python",
   "sourceType": "notebook"
  },
  "kernelspec": {
   "display_name": "mira",
   "language": "python",
   "name": "python3"
  },
  "language_info": {
   "codemirror_mode": {
    "name": "ipython",
    "version": 3
   },
   "file_extension": ".py",
   "mimetype": "text/x-python",
   "name": "python",
   "nbconvert_exporter": "python",
   "pygments_lexer": "ipython3",
   "version": "3.10.12"
  }
 },
 "nbformat": 4,
 "nbformat_minor": 4
}
