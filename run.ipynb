{
 "cells": [
  {
   "cell_type": "code",
   "execution_count": null,
   "metadata": {},
   "outputs": [],
   "source": [
    "!git clone https://github.com/nguyenduchuyiu/RL-for-5G-Energy-Saving.git"
   ]
  },
  {
   "cell_type": "code",
   "execution_count": null,
   "metadata": {},
   "outputs": [],
   "source": [
    "%cd RL-for-5G-Energy-Saving"
   ]
  },
  {
   "cell_type": "code",
   "execution_count": 7,
   "metadata": {},
   "outputs": [
    {
     "name": "stdout",
     "output_type": "stream",
     "text": [
      "Overwriting app/energy_agent/config.yaml\n"
     ]
    }
   ],
   "source": [
    "%%writefile app/energy_agent/config.yaml\n",
    "training_mode: True\n",
    "use_gpu: True\n",
    "checkpoint_path: \"app/energy_agent/models/ppo_model_6k.pth\"\n",
    "\n",
    "actor_lr: 0.0001\n",
    "critic_lr: 0.0003\n",
    "\n",
    "energy_coeff: 0.01\n",
    "drop_magnitude_penalty_coef: 1.0\n",
    "latency_magnitude_penalty_coef: 0.5\n",
    "cpu_magnitude_penalty_coef: 1.0\n",
    "prb_magnitude_penalty_coef: 1.0\n",
    "improvement_coeff: 0.5\n",
    "\n",
    "violation_event_penalty: -10.0\n",
    "energy_consumption_penalty: -10.0\n",
    "\n",
    "gamma: 0.99\n",
    "lambda_gae: 0.95\n",
    "clip_epsilon: 0.2\n",
    "ppo_epochs: 8\n",
    "batch_size: 64\n",
    "buffer_size: 2048\n",
    "n_envs: 4\n",
    "hidden_dim: 256"
   ]
  },
  {
   "cell_type": "code",
   "execution_count": 6,
   "metadata": {},
   "outputs": [
    {
     "name": "stdout",
     "output_type": "stream",
     "text": [
      "Overwriting app/train_scenarios/dense_urban.json\n"
     ]
    }
   ],
   "source": [
    "%%writefile app/train_scenarios/dense_urban.json\n",
    "{\n",
    "  \"name\": \"Dense Urban\",\n",
    "  \"description\": \"3GPP Dense urban with macro and micro cells\",\n",
    "  \"deploymentScenario\": \"dense_urban\",\n",
    "  \n",
    "  \"carrierFrequency\": 4e9,\n",
    "  \"systemBandwidth\": 200e6,\n",
    "  \"layout\": \"two_layer\",\n",
    "  \"isd\": 200,\n",
    "  \n",
    "  \"numSites\": 7,\n",
    "  \"numSectors\": 3,\n",
    "  \"antennaHeight\": 25,\n",
    "  \"cellRadius\": 200,\n",
    "  \n",
    "  \"numUEs\": 300,\n",
    "  \"userDistribution\": \"Uniform/macro\",\n",
    "  \"ueSpeed\": 3,\n",
    "  \"indoorRatio\": 0.8,\n",
    "  \"outdoorSpeed\": 30,\n",
    "  \n",
    "  \"minTxPower\": 10,\n",
    "  \"maxTxPower\": 46,\n",
    "  \"basePower\": 1000,\n",
    "  \"idlePower\": 250,\n",
    "  \n",
    "  \"simTime\": 2048,\n",
    "  \"timeStep\": 1,\n",
    "  \n",
    "  \"rsrpServingThreshold\": -110,\n",
    "  \"rsrpTargetThreshold\": -100,\n",
    "  \"rsrpMeasurementThreshold\": -115,\n",
    "  \"dropCallThreshold\": 1,\n",
    "  \"latencyThreshold\": 50,\n",
    "  \"cpuThreshold\": 95,\n",
    "  \"prbThreshold\": 95,\n",
    "  \n",
    "  \"trafficLambda\": 20,\n",
    "  \"peakHourMultiplier\": 1.3\n",
    "}"
   ]
  },
  {
   "cell_type": "code",
   "execution_count": 8,
   "metadata": {},
   "outputs": [
    {
     "name": "stdout",
     "output_type": "stream",
     "text": [
      "Overwriting app/train_scenarios/urban_macro.json\n"
     ]
    }
   ],
   "source": [
    "%%writefile app/train_scenarios/urban_macro.json\n",
    "    {\n",
    "  \"name\": \"3GPP Urban Macro\",\n",
    "  \"description\": \"3GPP Urban macro deployment scenario with large cells and continuous coverage\",\n",
    "  \"deploymentScenario\": \"urban_macro\",\n",
    "  \n",
    "  \"carrierFrequency\": 2e9,\n",
    "  \"systemBandwidth\": 100e6,\n",
    "  \"layout\": \"hexagonal_grid\",\n",
    "  \"isd\": 500,\n",
    "  \n",
    "  \"numSites\": 7,\n",
    "  \"numSectors\": 3,\n",
    "  \"antennaHeight\": 25,\n",
    "  \"cellRadius\": 200,\n",
    "  \n",
    "  \"numUEs\": 300,\n",
    "  \"userDistribution\": \"mixed_outdoor_indoor\",\n",
    "  \"ueSpeed\": 30,\n",
    "  \"indoorRatio\": 0.8,\n",
    "  \"outdoorSpeed\": 30,\n",
    "  \n",
    "  \"minTxPower\": 20,\n",
    "  \"maxTxPower\": 46,\n",
    "  \"basePower\": 1000,\n",
    "  \"idlePower\": 250,\n",
    "  \n",
    "  \"simTime\": 2048,\n",
    "  \"timeStep\": 1,\n",
    "  \n",
    "  \"rsrpServingThreshold\": -110,\n",
    "  \"rsrpTargetThreshold\": -100,\n",
    "  \"rsrpMeasurementThreshold\": -115,\n",
    "  \"dropCallThreshold\": 1,\n",
    "  \"latencyThreshold\": 50,\n",
    "  \"cpuThreshold\": 95,\n",
    "  \"prbThreshold\": 95,\n",
    "  \n",
    "  \"trafficLambda\": 25,\n",
    "  \"peakHourMultiplier\": 1.8\n",
    "}"
   ]
  },
  {
   "cell_type": "code",
   "execution_count": 9,
   "metadata": {},
   "outputs": [
    {
     "name": "stdout",
     "output_type": "stream",
     "text": [
      "Overwriting app/train_scenarios/rural.json\n"
     ]
    }
   ],
   "source": [
    "%%writefile app/train_scenarios/rural.json\n",
    "{\n",
    "  \"name\": \"3GPP Rural Macro\",\n",
    "  \"description\": \"3GPP Rural deployment scenario with wide area coverage for high speed vehicles\",\n",
    "  \"deploymentScenario\": \"rural\",\n",
    "  \n",
    "  \"carrierFrequency\": 700e6,\n",
    "  \"systemBandwidth\": 20e6,\n",
    "  \"layout\": \"hexagonal_grid\",\n",
    "  \"isd\": 1732,\n",
    "  \n",
    "  \"numSites\": 19,\n",
    "  \"numSectors\": 3,\n",
    "  \"antennaHeight\": 35,\n",
    "  \"cellRadius\": 1000,\n",
    "  \n",
    "  \"numUEs\": 100,\n",
    "  \"userDistribution\": \"mixed_outdoor_indoor\",\n",
    "  \"ueSpeed\": 120,\n",
    "  \"indoorRatio\": 0.5,\n",
    "  \"outdoorSpeed\": 120,\n",
    "  \n",
    "  \"minTxPower\": 20,\n",
    "  \"maxTxPower\": 46,\n",
    "  \"basePower\": 1200,\n",
    "  \"idlePower\": 300,\n",
    "  \n",
    "  \"simTime\": 2048,\n",
    "  \"timeStep\": 1,\n",
    "  \n",
    "  \"rsrpServingThreshold\": -115,\n",
    "  \"rsrpTargetThreshold\": -105,\n",
    "  \"rsrpMeasurementThreshold\": -120,\n",
    "  \"dropCallThreshold\": 2,\n",
    "  \"latencyThreshold\": 100,\n",
    "  \"cpuThreshold\": 90,\n",
    "  \"prbThreshold\": 90,\n",
    "  \n",
    "  \"trafficLambda\": 10,\n",
    "  \"peakHourMultiplier\": 1.2\n",
    "}"
   ]
  },
  {
   "cell_type": "markdown",
   "metadata": {},
   "source": [
    "# Train"
   ]
  },
  {
   "cell_type": "code",
   "execution_count": null,
   "metadata": {},
   "outputs": [],
   "source": [
    "import yaml\n",
    "with open('app/energy_agent/config.yaml') as f:\n",
    "    config = yaml.load(f, Loader=yaml.FullLoader)\n",
    "    num_envs = config['n_envs']\n",
    "\n",
    "!python3 app/main_run_scenarios_parallel.py --n-envs {num_envs} --scenarios-dir app/train_scenarios"
   ]
  },
  {
   "cell_type": "markdown",
   "metadata": {},
   "source": [
    "# Test"
   ]
  },
  {
   "cell_type": "code",
   "execution_count": 1,
   "metadata": {},
   "outputs": [
    {
     "name": "stdout",
     "output_type": "stream",
     "text": [
      "Overwriting app/energy_agent/config.yaml\n"
     ]
    }
   ],
   "source": [
    "%%writefile app/energy_agent/config.yaml\n",
    "training_mode: False\n",
    "use_gpu: True\n",
    "checkpoint_path: \"app/energy_agent/models/ppo_model_6k.pth\"\n",
    "\n",
    "actor_lr: 0.0001\n",
    "critic_lr: 0.0003\n",
    "\n",
    "energy_coeff: 0.01\n",
    "drop_magnitude_penalty_coef: 1.0\n",
    "latency_magnitude_penalty_coef: 0.5\n",
    "cpu_magnitude_penalty_coef: 1.0\n",
    "prb_magnitude_penalty_coef: 1.0\n",
    "improvement_coeff: 0.5\n",
    "\n",
    "violation_event_penalty: -10.0\n",
    "energy_consumption_penalty: -10.0\n",
    "\n",
    "gamma: 0.99\n",
    "lambda_gae: 0.95\n",
    "clip_epsilon: 0.2\n",
    "ppo_epochs: 8\n",
    "batch_size: 64\n",
    "buffer_size: 2048\n",
    "n_envs: 4\n",
    "hidden_dim: 256\n",
    "\n"
   ]
  },
  {
   "cell_type": "code",
   "execution_count": 2,
   "metadata": {},
   "outputs": [
    {
     "name": "stdout",
     "output_type": "stream",
     "text": [
      "/home/huy/anaconda3/envs/mira/lib/python3.10/site-packages/torch/cuda/__init__.py:61: FutureWarning: The pynvml package is deprecated. Please install nvidia-ml-py instead. If you did not install pynvml directly, please report this to the maintainers of the package that installed pynvml for you.\n",
      "  import pynvml  # type: ignore[import]\n",
      "\n",
      "=== Running Benchmark Suite (3 scenarios) ===\n",
      "\n",
      "\n",
      "--- Scenario 1/3: dense_urban ---\n",
      "Loaded scenario: Dense Urban\n",
      "2025-10-23 10:45:28,818 - PPOAgent - INFO - PPO Agent initialized: 21 cells, 300 UEs\n",
      "2025-10-23 10:45:28,818 - PPOAgent - INFO - State dim: 1441, Action dim: 100\n",
      "2025-10-23 10:45:28,818 - PPOAgent - INFO - Device: cuda\n",
      "2025-10-23 10:45:29,003 - PPOAgent - INFO - Model loaded from app/energy_agent/models/ppo_model_6k.pth\n",
      "2025-10-23 10:45:29,004 - PPOAgent - INFO - Loaded checkpoint from app/energy_agent/models/ppo_model_6k.pth\n",
      "2025-10-23 10:45:29,004 - PPOAgent - INFO - Fine-tuning with learning rate 3e-5 for actor and 1e-4 for critic\n",
      "Created 7 sites for dense_urban scenario\n",
      "Configuring cells for dense_urban scenario...\n",
      "Configured 21 cells for dense_urban scenario\n",
      "Initialized 300 UEs for dense_urban scenario\n",
      "===================Starting scenario===================\n",
      "===================Starting episode: 1===================\n",
      "Step 50/400: Energy: 0.353 kWh, Power: 25.5 kW, Drop Rate: 0.10%\n",
      "Step 100/400: Energy: 0.708 kWh, Power: 25.5 kW, Drop Rate: 0.10%\n",
      "Step 150/400: Energy: 1.063 kWh, Power: 25.5 kW, Drop Rate: 0.10%\n",
      "Step 200/400: Energy: 1.417 kWh, Power: 25.5 kW, Drop Rate: 0.13%\n",
      "Step 250/400: Energy: 1.772 kWh, Power: 25.5 kW, Drop Rate: 0.12%\n",
      "Step 300/400: Energy: 2.127 kWh, Power: 25.5 kW, Drop Rate: 0.10%\n",
      "Step 350/400: Energy: 2.481 kWh, Power: 25.5 kW, Drop Rate: 0.13%\n",
      "Step 400/400: Energy: 2.836 kWh, Power: 25.5 kW, Drop Rate: 0.10%\n",
      "===================Ending scenario===================\n",
      "2025-10-23 11:01:20,556 - PPOAgent - INFO - Model saved to app/energy_agent/models/ppo_model_6k.pth\n",
      "\n",
      "Results for dense_urban:\n",
      "  Energy: 2.835983 kWh\n",
      "  Drop Rate: 0.10%\n",
      "  Latency: 22.6 ms\n",
      "  Handovers: 1312 (Success: 98.6%)\n",
      "\n",
      "--- Scenario 2/3: rural ---\n",
      "Loaded scenario: 3GPP Rural Macro\n",
      "2025-10-23 11:01:20,581 - PPOAgent - INFO - PPO Agent initialized: 57 cells, 100 UEs\n",
      "2025-10-23 11:01:20,581 - PPOAgent - INFO - State dim: 1441, Action dim: 100\n",
      "2025-10-23 11:01:20,581 - PPOAgent - INFO - Device: cuda\n",
      "2025-10-23 11:01:20,618 - PPOAgent - INFO - Model loaded from app/energy_agent/models/ppo_model_6k.pth\n",
      "2025-10-23 11:01:20,619 - PPOAgent - INFO - Loaded checkpoint from app/energy_agent/models/ppo_model_6k.pth\n",
      "2025-10-23 11:01:20,619 - PPOAgent - INFO - Fine-tuning with learning rate 3e-5 for actor and 1e-4 for critic\n",
      "Created 19 sites for rural scenario\n",
      "Configuring cells for rural scenario...\n",
      "Configured 57 cells for rural scenario\n",
      "Initialized 100 UEs for rural scenario\n",
      "===================Starting scenario===================\n",
      "===================Starting episode: 1===================\n",
      "Step 50/400: Energy: 0.983 kWh, Power: 70.8 kW, Drop Rate: 0.10%\n",
      "Step 100/400: Energy: 1.967 kWh, Power: 70.8 kW, Drop Rate: 0.10%\n",
      "Step 150/400: Energy: 2.950 kWh, Power: 70.8 kW, Drop Rate: 0.17%\n",
      "Step 200/400: Energy: 3.934 kWh, Power: 70.8 kW, Drop Rate: 0.11%\n",
      "Step 250/400: Energy: 4.917 kWh, Power: 70.8 kW, Drop Rate: 0.11%\n",
      "Step 300/400: Energy: 5.901 kWh, Power: 70.8 kW, Drop Rate: 0.16%\n",
      "Step 350/400: Energy: 6.884 kWh, Power: 70.8 kW, Drop Rate: 0.13%\n",
      "Step 400/400: Energy: 7.868 kWh, Power: 70.8 kW, Drop Rate: 0.12%\n",
      "===================Ending scenario===================\n",
      "2025-10-23 11:15:59,321 - PPOAgent - INFO - Model saved to app/energy_agent/models/ppo_model_6k.pth\n",
      "\n",
      "Results for rural:\n",
      "  Energy: 7.867660 kWh\n",
      "  Drop Rate: 0.12%\n",
      "  Latency: 12.8 ms\n",
      "  Handovers: 67 (Success: 98.5%)\n",
      "\n",
      "--- Scenario 3/3: urban_macro ---\n",
      "Loaded scenario: 3GPP Urban Macro\n",
      "2025-10-23 11:15:59,339 - PPOAgent - INFO - PPO Agent initialized: 21 cells, 300 UEs\n",
      "2025-10-23 11:15:59,339 - PPOAgent - INFO - State dim: 1441, Action dim: 100\n",
      "2025-10-23 11:15:59,339 - PPOAgent - INFO - Device: cuda\n",
      "2025-10-23 11:15:59,373 - PPOAgent - INFO - Model loaded from app/energy_agent/models/ppo_model_6k.pth\n",
      "2025-10-23 11:15:59,373 - PPOAgent - INFO - Loaded checkpoint from app/energy_agent/models/ppo_model_6k.pth\n",
      "2025-10-23 11:15:59,373 - PPOAgent - INFO - Fine-tuning with learning rate 3e-5 for actor and 1e-4 for critic\n",
      "Created 7 sites for urban_macro scenario\n",
      "Configuring cells for urban_macro scenario...\n",
      "Configured 21 cells for urban_macro scenario\n",
      "Initialized 300 UEs for urban_macro scenario\n",
      "===================Starting scenario===================\n",
      "===================Starting episode: 1===================\n",
      "Step 50/400: Energy: 0.354 kWh, Power: 25.6 kW, Drop Rate: 0.43%\n",
      "Step 100/400: Energy: 0.709 kWh, Power: 25.6 kW, Drop Rate: 0.29%\n",
      "Step 150/400: Energy: 1.063 kWh, Power: 25.6 kW, Drop Rate: 0.40%\n",
      "Step 200/400: Energy: 1.418 kWh, Power: 25.6 kW, Drop Rate: 0.46%\n",
      "Step 250/400: Energy: 1.773 kWh, Power: 25.6 kW, Drop Rate: 0.46%\n",
      "Step 300/400: Energy: 2.127 kWh, Power: 25.5 kW, Drop Rate: 0.43%\n",
      "Step 350/400: Energy: 2.482 kWh, Power: 25.6 kW, Drop Rate: 0.30%\n",
      "Step 400/400: Energy: 2.837 kWh, Power: 25.6 kW, Drop Rate: 0.43%\n",
      "===================Ending scenario===================\n",
      "2025-10-23 11:31:39,485 - PPOAgent - INFO - Model saved to app/energy_agent/models/ppo_model_6k.pth\n",
      "\n",
      "Results for urban_macro:\n",
      "  Energy: 2.837059 kWh\n",
      "  Drop Rate: 0.43%\n",
      "  Latency: 20.5 ms\n",
      "  Handovers: 1245 (Success: 97.3%)\n",
      "\n",
      "Written 3 energy values to energies.txt\n",
      "\n",
      "energies.txt generated with 3 values\n",
      "\n",
      "Energy values written to energies.txt:\n",
      "  Scenario 1 (dense_urban): 2.835983 kWh\n",
      "  Scenario 2 (rural): 7.867660 kWh\n",
      "  Scenario 3 (urban_macro): 2.837059 kWh\n"
     ]
    }
   ],
   "source": [
    "!python3 app/main_run_scenarios_python.py --scenarios-dir app/test_scenarios"
   ]
  }
 ],
 "metadata": {
  "kaggle": {
   "accelerator": "none",
   "dataSources": [],
   "dockerImageVersionId": 31153,
   "isGpuEnabled": false,
   "isInternetEnabled": true,
   "language": "python",
   "sourceType": "notebook"
  },
  "kernelspec": {
   "display_name": "mira",
   "language": "python",
   "name": "python3"
  },
  "language_info": {
   "codemirror_mode": {
    "name": "ipython",
    "version": 3
   },
   "file_extension": ".py",
   "mimetype": "text/x-python",
   "name": "python",
   "nbconvert_exporter": "python",
   "pygments_lexer": "ipython3",
   "version": "3.10.12"
  }
 },
 "nbformat": 4,
 "nbformat_minor": 4
}
