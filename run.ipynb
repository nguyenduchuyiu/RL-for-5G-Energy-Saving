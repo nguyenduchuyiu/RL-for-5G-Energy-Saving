{
 "cells": [
  {
   "cell_type": "code",
   "execution_count": 1,
   "metadata": {},
   "outputs": [
    {
     "name": "stdout",
     "output_type": "stream",
     "text": [
      "fatal: destination path 'RL-for-5G-Energy-Saving' already exists and is not an empty directory.\n"
     ]
    }
   ],
   "source": [
    "!git clone https://github.com/nguyenduchuyiu/RL-for-5G-Energy-Saving.git"
   ]
  },
  {
   "cell_type": "code",
   "execution_count": 2,
   "metadata": {},
   "outputs": [
    {
     "name": "stdout",
     "output_type": "stream",
     "text": [
      "/home/huy/Project/public_1/5GEnergySaving-Round1-public/RL-for-5G-Energy-Saving\n"
     ]
    }
   ],
   "source": [
    "%cd RL-for-5G-Energy-Saving"
   ]
  },
  {
   "cell_type": "code",
   "execution_count": null,
   "metadata": {},
   "outputs": [
    {
     "name": "stdout",
     "output_type": "stream",
     "text": [
      "Overwriting config.yaml\n"
     ]
    }
   ],
   "source": [
    "%%writefile config.yaml\n",
    "training_mode: True\n",
    "use_gpu: False\n",
    "checkpoint_path: \"models/ppo_model.pth\"\n",
    "\n",
    "actor_lr: 0.00003\n",
    "critic_lr: 0.0001\n",
    "\n",
    "qos_grad_coeff: 10.0\n",
    "energy_grad_coeff: 100.0\n",
    "cpu_grad_coeff: 1.0\n",
    "prb_grad_coeff: 1.0\n",
    "violation_penalty: -50.0\n",
    "baseline_reward: 5.0\n",
    "\n",
    "entropy_coef: 0.01\n",
    "gamma: 0.99\n",
    "lambda_gae: 0.95\n",
    "clip_epsilon: 0.2\n",
    "ppo_epochs: 8\n",
    "batch_size: 64\n",
    "buffer_size: 256\n",
    "n_envs: 4\n",
    "hidden_dim: 256\n"
   ]
  },
  {
   "cell_type": "code",
   "execution_count": 3,
   "metadata": {},
   "outputs": [
    {
     "name": "stdout",
     "output_type": "stream",
     "text": [
      "Overwriting app/train_scenarios/dense_urban.json\n"
     ]
    }
   ],
   "source": [
    "%%writefile app/train_scenarios/dense_urban.json\n",
    "{\n",
    "  \"name\": \"Dense Urban\",\n",
    "  \"description\": \"3GPP Dense urban with macro and micro cells\",\n",
    "  \"deploymentScenario\": \"dense_urban\",\n",
    "  \n",
    "  \"carrierFrequency\": 4e9,\n",
    "  \"systemBandwidth\": 200e6,\n",
    "  \"layout\": \"two_layer\",\n",
    "  \"isd\": 200,\n",
    "  \n",
    "  \"numSites\": 7,\n",
    "  \"numSectors\": 3,\n",
    "  \"antennaHeight\": 25,\n",
    "  \"cellRadius\": 200,\n",
    "  \n",
    "  \"numUEs\": 300,\n",
    "  \"userDistribution\": \"Uniform/macro\",\n",
    "  \"ueSpeed\": 3,\n",
    "  \"indoorRatio\": 0.8,\n",
    "  \"outdoorSpeed\": 30,\n",
    "  \n",
    "  \"minTxPower\": 10,\n",
    "  \"maxTxPower\": 46,\n",
    "  \"basePower\": 1000,\n",
    "  \"idlePower\": 250,\n",
    "  \n",
    "  \"simTime\": 4096,\n",
    "  \"timeStep\": 1,\n",
    "  \n",
    "  \"rsrpServingThreshold\": -110,\n",
    "  \"rsrpTargetThreshold\": -100,\n",
    "  \"rsrpMeasurementThreshold\": -115,\n",
    "  \"dropCallThreshold\": 1,\n",
    "  \"latencyThreshold\": 50,\n",
    "  \"cpuThreshold\": 95,\n",
    "  \"prbThreshold\": 95,\n",
    "  \n",
    "  \"trafficLambda\": 20,\n",
    "  \"peakHourMultiplier\": 1.3\n",
    "}"
   ]
  },
  {
   "cell_type": "code",
   "execution_count": 4,
   "metadata": {},
   "outputs": [
    {
     "name": "stdout",
     "output_type": "stream",
     "text": [
      "Overwriting app/train_scenarios/urban_macro.json\n"
     ]
    }
   ],
   "source": [
    "%%writefile app/train_scenarios/urban_macro.json\n",
    "    {\n",
    "  \"name\": \"3GPP Urban Macro\",\n",
    "  \"description\": \"3GPP Urban macro deployment scenario with large cells and continuous coverage\",\n",
    "  \"deploymentScenario\": \"urban_macro\",\n",
    "  \n",
    "  \"carrierFrequency\": 2e9,\n",
    "  \"systemBandwidth\": 100e6,\n",
    "  \"layout\": \"hexagonal_grid\",\n",
    "  \"isd\": 500,\n",
    "  \n",
    "  \"numSites\": 7,\n",
    "  \"numSectors\": 3,\n",
    "  \"antennaHeight\": 25,\n",
    "  \"cellRadius\": 200,\n",
    "  \n",
    "  \"numUEs\": 300,\n",
    "  \"userDistribution\": \"mixed_outdoor_indoor\",\n",
    "  \"ueSpeed\": 30,\n",
    "  \"indoorRatio\": 0.8,\n",
    "  \"outdoorSpeed\": 30,\n",
    "  \n",
    "  \"minTxPower\": 20,\n",
    "  \"maxTxPower\": 46,\n",
    "  \"basePower\": 1000,\n",
    "  \"idlePower\": 250,\n",
    "  \n",
    "  \"simTime\": 0,\n",
    "  \"timeStep\": 1,\n",
    "  \n",
    "  \"rsrpServingThreshold\": -110,\n",
    "  \"rsrpTargetThreshold\": -100,\n",
    "  \"rsrpMeasurementThreshold\": -115,\n",
    "  \"dropCallThreshold\": 1,\n",
    "  \"latencyThreshold\": 50,\n",
    "  \"cpuThreshold\": 95,\n",
    "  \"prbThreshold\": 95,\n",
    "  \n",
    "  \"trafficLambda\": 25,\n",
    "  \"peakHourMultiplier\": 1.8\n",
    "}"
   ]
  },
  {
   "cell_type": "code",
   "execution_count": 5,
   "metadata": {},
   "outputs": [
    {
     "name": "stdout",
     "output_type": "stream",
     "text": [
      "Overwriting app/train_scenarios/rural.json\n"
     ]
    }
   ],
   "source": [
    "%%writefile app/train_scenarios/rural.json\n",
    "{\n",
    "  \"name\": \"3GPP Rural Macro\",\n",
    "  \"description\": \"3GPP Rural deployment scenario with wide area coverage for high speed vehicles\",\n",
    "  \"deploymentScenario\": \"rural\",\n",
    "  \n",
    "  \"carrierFrequency\": 700e6,\n",
    "  \"systemBandwidth\": 20e6,\n",
    "  \"layout\": \"hexagonal_grid\",\n",
    "  \"isd\": 1732,\n",
    "  \n",
    "  \"numSites\": 19,\n",
    "  \"numSectors\": 3,\n",
    "  \"antennaHeight\": 35,\n",
    "  \"cellRadius\": 1000,\n",
    "  \n",
    "  \"numUEs\": 100,\n",
    "  \"userDistribution\": \"mixed_outdoor_indoor\",\n",
    "  \"ueSpeed\": 120,\n",
    "  \"indoorRatio\": 0.5,\n",
    "  \"outdoorSpeed\": 120,\n",
    "  \n",
    "  \"minTxPower\": 20,\n",
    "  \"maxTxPower\": 46,\n",
    "  \"basePower\": 1200,\n",
    "  \"idlePower\": 300,\n",
    "  \n",
    "  \"simTime\": 0,\n",
    "  \"timeStep\": 1,\n",
    "  \n",
    "  \"rsrpServingThreshold\": -115,\n",
    "  \"rsrpTargetThreshold\": -105,\n",
    "  \"rsrpMeasurementThreshold\": -120,\n",
    "  \"dropCallThreshold\": 2,\n",
    "  \"latencyThreshold\": 100,\n",
    "  \"cpuThreshold\": 90,\n",
    "  \"prbThreshold\": 90,\n",
    "  \n",
    "  \"trafficLambda\": 10,\n",
    "  \"peakHourMultiplier\": 1.2\n",
    "}"
   ]
  },
  {
   "cell_type": "markdown",
   "metadata": {},
   "source": [
    "# Train"
   ]
  },
  {
   "cell_type": "code",
   "execution_count": 1,
   "metadata": {},
   "outputs": [
    {
     "name": "stdout",
     "output_type": "stream",
     "text": [
      "/home/huy/anaconda3/envs/mira/lib/python3.10/site-packages/torch/cuda/__init__.py:61: FutureWarning: The pynvml package is deprecated. Please install nvidia-ml-py instead. If you did not install pynvml directly, please report this to the maintainers of the package that installed pynvml for you.\n",
      "  import pynvml  # type: ignore[import]\n",
      "\n",
      "=== Running Benchmark Suite (3 scenarios) ===\n",
      "Scenarios directory: app/train_scenarios/\n",
      "Using 4 parallel environments per scenario\n",
      "Loaded scenarios: ['dense_urban', 'rural', 'urban_macro']\n",
      "\n",
      "\n",
      "--- Scenario 1/3: dense_urban ---\n",
      "Loaded scenario: Dense Urban\n",
      "Loaded scenario: Dense Urban\n",
      "Loaded scenario: Dense Urban\n",
      "Created 4 parallel environments\n",
      "  Scenario: dense_urban\n",
      "  Action dim: 21\n",
      "  Obs dim: 280\n",
      "Loaded scenario: Dense Urban\n",
      "Loaded scenario: Dense Urban\n",
      "2025-10-29 04:34:48,272 - PPOAgent - INFO - PPO Agent initialized: 21 cells, 300 UEs\n",
      "2025-10-29 04:34:48,272 - PPOAgent - INFO - State dim: 1444, Action dim: 100\n",
      "2025-10-29 04:34:48,272 - PPOAgent - INFO - Device: cpu\n",
      "2025-10-29 04:34:48,272 - PPOAgent - INFO - No checkpoint found at models/ppo_model.pth\n",
      "Created 7 sites for dense_urban scenarioCreated 7 sites for dense_urban scenario\n",
      "\n",
      "Configuring cells for dense_urban scenario...Configuring cells for dense_urban scenario...\n",
      "\n",
      "Configured 21 cells for dense_urban scenarioConfigured 21 cells for dense_urban scenario\n",
      "\n",
      "Created 7 sites for dense_urban scenarioCreated 7 sites for dense_urban scenario\n",
      "\n",
      "Configuring cells for dense_urban scenario...Configuring cells for dense_urban scenario...\n",
      "\n",
      "Configured 21 cells for dense_urban scenario\n",
      "Configured 21 cells for dense_urban scenario\n",
      "Initialized 300 UEs for dense_urban scenario\n",
      "Initialized 300 UEs for dense_urban scenario\n",
      "Initialized 300 UEs for dense_urban scenario\n",
      "Initialized 300 UEs for dense_urban scenario\n",
      "===================Starting scenario===================\n",
      "Starting episode: 1\n",
      "Training with 4 parallel environments...\n",
      "Total steps: 4096\n",
      "total_reward:  -48.33890 \n",
      "drop_improvement:  -5.00000 \n",
      "latency_improvement:  0.00000 \n",
      "cpu_improvement:  0.00000 \n",
      "prb_improvement:  0.00000 \n",
      "energy_efficiency_reward:  0.00000 \n",
      "violation_penalty:  -43.33890 \n",
      "energy_grad:  0.00826\n",
      "total_reward:  -55.00000 \n",
      "drop_improvement:  -5.00000 \n",
      "latency_improvement:  0.00000 \n",
      "cpu_improvement:  0.00000 \n",
      "prb_improvement:  0.00000 \n",
      "energy_efficiency_reward:  0.00000 \n",
      "violation_penalty:  -50.00000 \n",
      "energy_grad:  -0.17138\n",
      "total_reward:  -27.58936 \n",
      "drop_improvement:  5.00000 \n",
      "latency_improvement:  0.00000 \n",
      "cpu_improvement:  0.00000 \n",
      "prb_improvement:  0.00000 \n",
      "energy_efficiency_reward:  0.00000 \n",
      "violation_penalty:  -32.58936 \n",
      "energy_grad:  -0.00148\n",
      "total_reward:  -55.00000 \n",
      "drop_improvement:  -5.00000 \n",
      "latency_improvement:  0.00000 \n",
      "cpu_improvement:  0.00000 \n",
      "prb_improvement:  0.00000 \n",
      "energy_efficiency_reward:  0.00000 \n",
      "violation_penalty:  -50.00000 \n",
      "energy_grad:  0.00679\n",
      "total_reward:  -55.00000 \n",
      "drop_improvement:  -5.00000 \n",
      "latency_improvement:  0.00000 \n",
      "cpu_improvement:  0.00000 \n",
      "prb_improvement:  0.00000 \n",
      "energy_efficiency_reward:  0.00000 \n",
      "violation_penalty:  -50.00000 \n",
      "energy_grad:  0.00127\n",
      "total_reward:  -54.34811 \n",
      "drop_improvement:  -4.34811 \n",
      "latency_improvement:  0.00000 \n",
      "cpu_improvement:  0.00000 \n",
      "prb_improvement:  0.00000 \n",
      "energy_efficiency_reward:  0.00000 \n",
      "violation_penalty:  -50.00000 \n",
      "energy_grad:  0.00096\n",
      "total_reward:  -20.21145 \n",
      "drop_improvement:  5.00000 \n",
      "latency_improvement:  0.00000 \n",
      "cpu_improvement:  0.00000 \n",
      "prb_improvement:  0.00000 \n",
      "energy_efficiency_reward:  0.00000 \n",
      "violation_penalty:  -25.21145 \n",
      "energy_grad:  -0.00938\n",
      "total_reward:  -55.00000 \n",
      "drop_improvement:  -5.00000 \n",
      "latency_improvement:  0.00000 \n",
      "cpu_improvement:  0.00000 \n",
      "prb_improvement:  0.00000 \n",
      "energy_efficiency_reward:  0.00000 \n",
      "violation_penalty:  -50.00000 \n",
      "energy_grad:  0.00258\n",
      "total_reward:  -55.00000 \n",
      "drop_improvement:  -5.00000 \n",
      "latency_improvement:  0.00000 \n",
      "cpu_improvement:  0.00000 \n",
      "prb_improvement:  0.00000 \n",
      "energy_efficiency_reward:  0.00000 \n",
      "violation_penalty:  -50.00000 \n",
      "energy_grad:  -0.00050\n",
      "Traceback (most recent call last):\n",
      "  File \"/home/huy/Project/public_1/5GEnergySaving-Round1-public/app/main_run_scenarios_parallel.py\", line 253, in <module>\n",
      "    main(n_parallel_envs=args.n_envs, scenarios_dir=args.scenarios_dir)\n",
      "  File \"/home/huy/Project/public_1/5GEnergySaving-Round1-public/app/main_run_scenarios_parallel.py\", line 67, in main\n",
      "    results = run_scenario_with_rl_agent_parallel(\n",
      "  File \"/home/huy/Project/public_1/5GEnergySaving-Round1-public/app/main_run_scenarios_parallel.py\", line 182, in run_scenario_with_rl_agent_parallel\n",
      "    next_obs, rewards, new_dones, infos = envs.step(actions)\n",
      "  File \"/home/huy/Project/public_1/5GEnergySaving-Round1-public/app/simple_parallel_env.py\", line 127, in step\n",
      "    results = [conn.recv() for conn in self.parent_conns]\n",
      "  File \"/home/huy/Project/public_1/5GEnergySaving-Round1-public/app/simple_parallel_env.py\", line 127, in <listcomp>\n",
      "    results = [conn.recv() for conn in self.parent_conns]\n",
      "  File \"/home/huy/anaconda3/envs/mira/lib/python3.10/multiprocessing/connection.py\", line 250, in recv\n",
      "    buf = self._recv_bytes()\n",
      "  File \"/home/huy/anaconda3/envs/mira/lib/python3.10/multiprocessing/connection.py\", line 414, in _recv_bytes\n",
      "    buf = self._recv(4)\n",
      "  File \"/home/huy/anaconda3/envs/mira/lib/python3.10/multiprocessing/connection.py\", line 379, in _recv\n",
      "    chunk = read(handle, remaining)\n",
      "KeyboardInterrupt\n",
      "^C\n"
     ]
    }
   ],
   "source": [
    "import yaml\n",
    "with open('config.yaml') as f:\n",
    "    config = yaml.load(f, Loader=yaml.FullLoader)\n",
    "    num_envs = config['n_envs']\n",
    "\n",
    "!python3 app/main_run_scenarios_parallel.py --scenarios-dir app/train_scenarios"
   ]
  },
  {
   "cell_type": "markdown",
   "metadata": {},
   "source": [
    "# Test"
   ]
  },
  {
   "cell_type": "code",
   "execution_count": null,
   "metadata": {},
   "outputs": [
    {
     "name": "stdout",
     "output_type": "stream",
     "text": [
      "Overwriting config.yaml\n"
     ]
    }
   ],
   "source": [
    "%%writefile config.yaml\n",
    "training_mode: False\n",
    "use_gpu: False\n",
    "checkpoint_path: \"models/ppo_model.pth\"\n",
    "\n",
    "actor_lr: 0.00003\n",
    "critic_lr: 0.0001\n",
    "\n",
    "qos_grad_coeff: 10.0\n",
    "energy_grad_coeff: 5.0\n",
    "cpu_grad_coeff: 1.0\n",
    "prb_grad_coeff: 1.0\n",
    "stability_penalty: -10.0\n",
    "energy_consumption_penalty: -100.0\n",
    "violation_penalty: -50.0\n",
    "baseline_reward: 10.0\n",
    "\n",
    "entropy_coef: 0.01\n",
    "gamma: 0.99\n",
    "lambda_gae: 0.95\n",
    "clip_epsilon: 0.2\n",
    "ppo_epochs: 8\n",
    "batch_size: 64\n",
    "buffer_size: 256\n",
    "n_envs: 4\n",
    "hidden_dim: 256"
   ]
  },
  {
   "cell_type": "code",
   "execution_count": 1,
   "metadata": {},
   "outputs": [
    {
     "name": "stdout",
     "output_type": "stream",
     "text": [
      "/home/huy/anaconda3/envs/mira/lib/python3.10/site-packages/torch/cuda/__init__.py:61: FutureWarning: The pynvml package is deprecated. Please install nvidia-ml-py instead. If you did not install pynvml directly, please report this to the maintainers of the package that installed pynvml for you.\n",
      "  import pynvml  # type: ignore[import]\n",
      "\n",
      "=== Running Benchmark Suite (3 scenarios) ===\n",
      "\n",
      "\n",
      "--- Scenario 1/3: dense_urban ---\n",
      "Loaded scenario: Dense Urban\n",
      "2025-10-29 03:58:47,829 - PPOAgent - INFO - PPO Agent initialized: 21 cells, 300 UEs\n",
      "2025-10-29 03:58:47,829 - PPOAgent - INFO - State dim: 1445, Action dim: 100\n",
      "2025-10-29 03:58:47,829 - PPOAgent - INFO - Device: cpu\n",
      "2025-10-29 03:58:47,846 - PPOAgent - INFO - Model loaded from models/ppo_model.pth\n",
      "2025-10-29 03:58:47,846 - PPOAgent - INFO - Loaded checkpoint from models/ppo_model.pth\n",
      "Created 7 sites for dense_urban scenario\n",
      "Configuring cells for dense_urban scenario...\n",
      "Configured 21 cells for dense_urban scenario\n",
      "Initialized 300 UEs for dense_urban scenario\n",
      "===================Starting scenario===================\n",
      "Starting episode: 1\n",
      "Traceback (most recent call last):\n",
      "  File \"/home/huy/Project/public_1/5GEnergySaving-Round1-public/app/main_run_scenarios_python.py\", line 172, in <module>\n",
      "    main(scenarios_dir=args.scenarios_dir, base_seed=args.base_seed)\n",
      "  File \"/home/huy/Project/public_1/5GEnergySaving-Round1-public/app/main_run_scenarios_python.py\", line 61, in main\n",
      "    results = run_scenario_with_rl_agent(scenario=name, seed=seed, scenarios_dir=scenarios_dir)\n",
      "  File \"/home/huy/Project/public_1/5GEnergySaving-Round1-public/app/main_run_scenarios_python.py\", line 132, in run_scenario_with_rl_agent\n",
      "    next_state, reward, done, truncated, info = env.step(action)\n",
      "  File \"/home/huy/Project/public_1/5GEnergySaving-Round1-public/app/simulation/environment.py\", line 125, in step\n",
      "    update_signal_measurements(\n",
      "  File \"/home/huy/Project/public_1/5GEnergySaving-Round1-public/app/simulation/signal_measurement.py\", line 36, in update_signal_measurements\n",
      "    path_loss_matrix = calculate_path_loss_vectorized(\n",
      "  File \"/home/huy/Project/public_1/5GEnergySaving-Round1-public/app/simulation/path_loss.py\", line 99, in calculate_path_loss_vectorized\n",
      "    rng = np.random.RandomState(pl_seed)\n",
      "  File \"numpy/random/mtrand.pyx\", line 185, in numpy.random.mtrand.RandomState.__init__\n",
      "  File \"_mt19937.pyx\", line 132, in numpy.random._mt19937.MT19937.__init__\n",
      "  File \"/home/huy/anaconda3/envs/mira/lib/python3.10/site-packages/numpy/_core/_ufunc_config.py\", line 479, in inner\n",
      "    return func(*args, **kwargs)\n",
      "KeyboardInterrupt\n",
      "^C\n"
     ]
    }
   ],
   "source": [
    "!python3 app/main_run_scenarios_python.py --scenarios-dir app/test_scenarios"
   ]
  }
 ],
 "metadata": {
  "kaggle": {
   "accelerator": "none",
   "dataSources": [],
   "dockerImageVersionId": 31153,
   "isGpuEnabled": false,
   "isInternetEnabled": true,
   "language": "python",
   "sourceType": "notebook"
  },
  "kernelspec": {
   "display_name": "mira",
   "language": "python",
   "name": "python3"
  },
  "language_info": {
   "codemirror_mode": {
    "name": "ipython",
    "version": 3
   },
   "file_extension": ".py",
   "mimetype": "text/x-python",
   "name": "python",
   "nbconvert_exporter": "python",
   "pygments_lexer": "ipython3",
   "version": "3.10.12"
  }
 },
 "nbformat": 4,
 "nbformat_minor": 4
}
