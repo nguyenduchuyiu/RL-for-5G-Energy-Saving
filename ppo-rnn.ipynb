{
 "cells": [
  {
   "cell_type": "code",
   "execution_count": null,
   "metadata": {
    "execution": {
     "iopub.execute_input": "2025-10-24T21:26:25.666458Z",
     "iopub.status.busy": "2025-10-24T21:26:25.665206Z",
     "iopub.status.idle": "2025-10-24T21:26:27.894522Z",
     "shell.execute_reply": "2025-10-24T21:26:27.893122Z",
     "shell.execute_reply.started": "2025-10-24T21:26:25.666410Z"
    },
    "papermill": {
     "duration": 3.369905,
     "end_time": "2025-10-24T07:56:44.608165",
     "exception": false,
     "start_time": "2025-10-24T07:56:41.238260",
     "status": "completed"
    },
    "tags": [],
    "trusted": true
   },
   "outputs": [],
   "source": [
    "!git clone -b ppo-rnn --single-branch https://github.com/nguyenduchuyiu/RL-for-5G-Energy-Saving.git"
   ]
  },
  {
   "cell_type": "code",
   "execution_count": null,
   "metadata": {
    "execution": {
     "iopub.execute_input": "2025-10-24T21:26:27.897220Z",
     "iopub.status.busy": "2025-10-24T21:26:27.896817Z",
     "iopub.status.idle": "2025-10-24T21:26:27.906085Z",
     "shell.execute_reply": "2025-10-24T21:26:27.904766Z",
     "shell.execute_reply.started": "2025-10-24T21:26:27.897180Z"
    },
    "papermill": {
     "duration": 0.012804,
     "end_time": "2025-10-24T07:56:44.624621",
     "exception": false,
     "start_time": "2025-10-24T07:56:44.611817",
     "status": "completed"
    },
    "tags": [],
    "trusted": true
   },
   "outputs": [],
   "source": [
    "%cd RL-for-5G-Energy-Saving"
   ]
  },
  {
   "cell_type": "code",
   "execution_count": null,
   "metadata": {
    "execution": {
     "iopub.execute_input": "2025-10-24T21:26:27.907570Z",
     "iopub.status.busy": "2025-10-24T21:26:27.907251Z",
     "iopub.status.idle": "2025-10-24T21:26:27.932090Z",
     "shell.execute_reply": "2025-10-24T21:26:27.930763Z",
     "shell.execute_reply.started": "2025-10-24T21:26:27.907536Z"
    },
    "papermill": {
     "duration": 0.011503,
     "end_time": "2025-10-24T07:56:44.639392",
     "exception": false,
     "start_time": "2025-10-24T07:56:44.627889",
     "status": "completed"
    },
    "tags": [],
    "trusted": true
   },
   "outputs": [
    {
     "name": "stdout",
     "output_type": "stream",
     "text": [
      "Overwriting app/energy_agent/config.yaml\n"
     ]
    }
   ],
   "source": [
    "%%writefile app/energy_agent/config.yaml\n",
    "training_mode: True\n",
    "use_gpu: True\n",
    "checkpoint_path: \"app/energy_agent/models/ppo_rnn_model_last.pth\"\n",
    "\n",
    "actor_lr: 0.0001\n",
    "critic_lr: 0.0003\n",
    "\n",
    "qos_grad_coeff: 10.0\n",
    "energy_grad_coeff: 5.0\n",
    "cpu_grad_coeff: 1.0\n",
    "prb_grad_coeff: 1.0\n",
    "stability_penalty: 2.0\n",
    "energy_consumption_penalty: 1000.0\n",
    "# energy_coeff: 0.1\n",
    "# drop_magnitude_penalty_coef: 1.0\n",
    "# latency_magnitude_penalty_coef: 1.0\n",
    "# cpu_magnitude_penalty_coef: 1.0\n",
    "# prb_magnitude_penalty_coef: 1.0\n",
    "# improvement_coeff: 5.0\n",
    "\n",
    "entropy_coef: 0.01\n",
    "gamma: 0.99\n",
    "lambda_gae: 0.95\n",
    "clip_epsilon: 0.2\n",
    "ppo_epochs: 8\n",
    "batch_size: 4\n",
    "chunk_len: 32\n",
    "buffer_size: 512\n",
    "hidden_dim: 256\n"
   ]
  },
  {
   "cell_type": "code",
   "execution_count": 3,
   "metadata": {
    "execution": {
     "iopub.execute_input": "2025-10-24T21:26:27.934793Z",
     "iopub.status.busy": "2025-10-24T21:26:27.934484Z",
     "iopub.status.idle": "2025-10-24T21:26:27.950809Z",
     "shell.execute_reply": "2025-10-24T21:26:27.949674Z",
     "shell.execute_reply.started": "2025-10-24T21:26:27.934739Z"
    },
    "papermill": {
     "duration": 0.011524,
     "end_time": "2025-10-24T07:56:44.654374",
     "exception": false,
     "start_time": "2025-10-24T07:56:44.642850",
     "status": "completed"
    },
    "tags": [],
    "trusted": true
   },
   "outputs": [
    {
     "name": "stdout",
     "output_type": "stream",
     "text": [
      "Overwriting app/train_scenarios/dense_urban.json\n"
     ]
    }
   ],
   "source": [
    "%%writefile app/train_scenarios/dense_urban.json\n",
    "{\n",
    "  \"name\": \"Dense Urban\",\n",
    "  \"description\": \"3GPP Dense urban with macro and micro cells\",\n",
    "  \"deploymentScenario\": \"dense_urban\",\n",
    "  \n",
    "  \"carrierFrequency\": 4e9,\n",
    "  \"systemBandwidth\": 200e6,\n",
    "  \"layout\": \"two_layer\",\n",
    "  \"isd\": 200,\n",
    "  \n",
    "  \"numSites\": 7,\n",
    "  \"numSectors\": 3,\n",
    "  \"antennaHeight\": 25,\n",
    "  \"cellRadius\": 200,\n",
    "  \n",
    "  \"numUEs\": 300,\n",
    "  \"userDistribution\": \"Uniform/macro\",\n",
    "  \"ueSpeed\": 3,\n",
    "  \"indoorRatio\": 0.8,\n",
    "  \"outdoorSpeed\": 30,\n",
    "  \n",
    "  \"minTxPower\": 10,\n",
    "  \"maxTxPower\": 46,\n",
    "  \"basePower\": 1000,\n",
    "  \"idlePower\": 250,\n",
    "  \n",
    "  \"simTime\": 10240,\n",
    "  \"timeStep\": 1,\n",
    "  \n",
    "  \"rsrpServingThreshold\": -110,\n",
    "  \"rsrpTargetThreshold\": -100,\n",
    "  \"rsrpMeasurementThreshold\": -115,\n",
    "  \"dropCallThreshold\": 1,\n",
    "  \"latencyThreshold\": 50,\n",
    "  \"cpuThreshold\": 95,\n",
    "  \"prbThreshold\": 95,\n",
    "  \n",
    "  \"trafficLambda\": 20,\n",
    "  \"peakHourMultiplier\": 1.3\n",
    "}"
   ]
  },
  {
   "cell_type": "code",
   "execution_count": 4,
   "metadata": {
    "execution": {
     "iopub.execute_input": "2025-10-24T21:26:27.952412Z",
     "iopub.status.busy": "2025-10-24T21:26:27.951782Z",
     "iopub.status.idle": "2025-10-24T21:26:27.971616Z",
     "shell.execute_reply": "2025-10-24T21:26:27.970347Z",
     "shell.execute_reply.started": "2025-10-24T21:26:27.952375Z"
    },
    "papermill": {
     "duration": 0.011259,
     "end_time": "2025-10-24T07:56:44.669132",
     "exception": false,
     "start_time": "2025-10-24T07:56:44.657873",
     "status": "completed"
    },
    "tags": [],
    "trusted": true
   },
   "outputs": [
    {
     "name": "stdout",
     "output_type": "stream",
     "text": [
      "Overwriting app/train_scenarios/urban_macro.json\n"
     ]
    }
   ],
   "source": [
    "%%writefile app/train_scenarios/urban_macro.json\n",
    "    {\n",
    "  \"name\": \"3GPP Urban Macro\",\n",
    "  \"description\": \"3GPP Urban macro deployment scenario with large cells and continuous coverage\",\n",
    "  \"deploymentScenario\": \"urban_macro\",\n",
    "  \n",
    "  \"carrierFrequency\": 2e9,\n",
    "  \"systemBandwidth\": 100e6,\n",
    "  \"layout\": \"hexagonal_grid\",\n",
    "  \"isd\": 500,\n",
    "  \n",
    "  \"numSites\": 7,\n",
    "  \"numSectors\": 3,\n",
    "  \"antennaHeight\": 25,\n",
    "  \"cellRadius\": 200,\n",
    "  \n",
    "  \"numUEs\": 300,\n",
    "  \"userDistribution\": \"mixed_outdoor_indoor\",\n",
    "  \"ueSpeed\": 30,\n",
    "  \"indoorRatio\": 0.8,\n",
    "  \"outdoorSpeed\": 30,\n",
    "  \n",
    "  \"minTxPower\": 20,\n",
    "  \"maxTxPower\": 46,\n",
    "  \"basePower\": 1000,\n",
    "  \"idlePower\": 250,\n",
    "  \n",
    "  \"simTime\": 0,\n",
    "  \"timeStep\": 1,\n",
    "  \n",
    "  \"rsrpServingThreshold\": -110,\n",
    "  \"rsrpTargetThreshold\": -100,\n",
    "  \"rsrpMeasurementThreshold\": -115,\n",
    "  \"dropCallThreshold\": 1,\n",
    "  \"latencyThreshold\": 50,\n",
    "  \"cpuThreshold\": 95,\n",
    "  \"prbThreshold\": 95,\n",
    "  \n",
    "  \"trafficLambda\": 25,\n",
    "  \"peakHourMultiplier\": 1.8\n",
    "}"
   ]
  },
  {
   "cell_type": "code",
   "execution_count": 5,
   "metadata": {
    "execution": {
     "iopub.execute_input": "2025-10-24T21:26:27.973296Z",
     "iopub.status.busy": "2025-10-24T21:26:27.972945Z",
     "iopub.status.idle": "2025-10-24T21:26:27.997900Z",
     "shell.execute_reply": "2025-10-24T21:26:27.996847Z",
     "shell.execute_reply.started": "2025-10-24T21:26:27.973263Z"
    },
    "papermill": {
     "duration": 0.011303,
     "end_time": "2025-10-24T07:56:44.683988",
     "exception": false,
     "start_time": "2025-10-24T07:56:44.672685",
     "status": "completed"
    },
    "tags": [],
    "trusted": true
   },
   "outputs": [
    {
     "name": "stdout",
     "output_type": "stream",
     "text": [
      "Overwriting app/train_scenarios/rural.json\n"
     ]
    }
   ],
   "source": [
    "%%writefile app/train_scenarios/rural.json\n",
    "{\n",
    "  \"name\": \"3GPP Rural Macro\",\n",
    "  \"description\": \"3GPP Rural deployment scenario with wide area coverage for high speed vehicles\",\n",
    "  \"deploymentScenario\": \"rural\",\n",
    "  \n",
    "  \"carrierFrequency\": 700e6,\n",
    "  \"systemBandwidth\": 20e6,\n",
    "  \"layout\": \"hexagonal_grid\",\n",
    "  \"isd\": 1732,\n",
    "  \n",
    "  \"numSites\": 19,\n",
    "  \"numSectors\": 3,\n",
    "  \"antennaHeight\": 35,\n",
    "  \"cellRadius\": 1000,\n",
    "  \n",
    "  \"numUEs\": 100,\n",
    "  \"userDistribution\": \"mixed_outdoor_indoor\",\n",
    "  \"ueSpeed\": 120,\n",
    "  \"indoorRatio\": 0.5,\n",
    "  \"outdoorSpeed\": 120,\n",
    "  \n",
    "  \"minTxPower\": 20,\n",
    "  \"maxTxPower\": 46,\n",
    "  \"basePower\": 1200,\n",
    "  \"idlePower\": 300,\n",
    "  \n",
    "  \"simTime\": 0,\n",
    "  \"timeStep\": 1,\n",
    "  \n",
    "  \"rsrpServingThreshold\": -115,\n",
    "  \"rsrpTargetThreshold\": -105,\n",
    "  \"rsrpMeasurementThreshold\": -120,\n",
    "  \"dropCallThreshold\": 2,\n",
    "  \"latencyThreshold\": 100,\n",
    "  \"cpuThreshold\": 90,\n",
    "  \"prbThreshold\": 90,\n",
    "  \n",
    "  \"trafficLambda\": 10,\n",
    "  \"peakHourMultiplier\": 1.2\n",
    "}"
   ]
  },
  {
   "cell_type": "markdown",
   "metadata": {
    "papermill": {
     "duration": 0.003244,
     "end_time": "2025-10-24T07:56:44.690910",
     "exception": false,
     "start_time": "2025-10-24T07:56:44.687666",
     "status": "completed"
    },
    "tags": []
   },
   "source": [
    "# Train"
   ]
  },
  {
   "cell_type": "code",
   "execution_count": 1,
   "metadata": {
    "execution": {
     "execution_failed": "2025-10-24T21:34:03.521Z",
     "iopub.execute_input": "2025-10-24T21:26:27.999451Z",
     "iopub.status.busy": "2025-10-24T21:26:27.999069Z"
    },
    "papermill": {
     "duration": 36196.466752,
     "end_time": "2025-10-24T18:00:01.161033",
     "exception": false,
     "start_time": "2025-10-24T07:56:44.694281",
     "status": "completed"
    },
    "tags": [],
    "trusted": true
   },
   "outputs": [
    {
     "name": "stdout",
     "output_type": "stream",
     "text": [
      "/home/huy/anaconda3/envs/mira/lib/python3.10/site-packages/torch/cuda/__init__.py:61: FutureWarning: The pynvml package is deprecated. Please install nvidia-ml-py instead. If you did not install pynvml directly, please report this to the maintainers of the package that installed pynvml for you.\n",
      "  import pynvml  # type: ignore[import]\n",
      "\n",
      "=== Running Benchmark Suite (3 scenarios) ===\n",
      "\n",
      "\n",
      "--- Scenario 1/3: dense_urban ---\n",
      "Loaded scenario: Dense Urban\n",
      "2025-10-25 23:11:42,271 - PPOAgent - INFO - PPO Agent initialized: 21 cells, 300 UEs\n",
      "2025-10-25 23:11:42,272 - PPOAgent - INFO - State dim: 1441, Action dim: 100\n",
      "2025-10-25 23:11:42,272 - PPOAgent - INFO - Device: cuda\n",
      "2025-10-25 23:11:42,311 - PPOAgent - INFO - Model loaded from app/energy_agent/models/ppo_rnn_model_last.pth\n",
      "2025-10-25 23:11:42,311 - PPOAgent - INFO - Loaded checkpoint from app/energy_agent/models/ppo_rnn_model_last.pth\n",
      "2025-10-25 23:11:42,311 - PPOAgent - INFO - Fine-tuning with learning rate 3e-5 for actor and 1e-4 for critic\n",
      "Created 7 sites for dense_urban scenario\n",
      "Configuring cells for dense_urban scenario...\n",
      "Configured 21 cells for dense_urban scenario\n",
      "Initialized 300 UEs for dense_urban scenario\n",
      "Starting scenario...\n",
      "Step 50/10240: Energy: 0.354 kWh, Power: 25.5 kW, Drop Rate: 4.08%\n",
      "Drop rate violation: 4.08% > 1%\n",
      "Traceback (most recent call last):\n",
      "  File \"/home/huy/Project/public_1/5GEnergySaving-Round1-public/app/main_run_scenarios_python.py\", line 172, in <module>\n",
      "    main(scenarios_dir=args.scenarios_dir, base_seed=args.base_seed)\n",
      "  File \"/home/huy/Project/public_1/5GEnergySaving-Round1-public/app/main_run_scenarios_python.py\", line 61, in main\n",
      "    results = run_scenario_with_rl_agent(scenario=name, seed=seed, scenarios_dir=scenarios_dir)\n",
      "  File \"/home/huy/Project/public_1/5GEnergySaving-Round1-public/app/main_run_scenarios_python.py\", line 132, in run_scenario_with_rl_agent\n",
      "    next_state, reward, done, truncated, info = env.step(action)\n",
      "  File \"/home/huy/Project/public_1/5GEnergySaving-Round1-public/app/simulation/environment.py\", line 118, in step\n",
      "    update_signal_measurements(\n",
      "  File \"/home/huy/Project/public_1/5GEnergySaving-Round1-public/app/simulation/signal_measurement.py\", line 49, in update_signal_measurements\n",
      "    rng = np.random.RandomState(rsrp_seed)\n",
      "KeyboardInterrupt\n",
      "^C\n"
     ]
    }
   ],
   "source": [
    "!python3 app/main_run_scenarios_python.py --scenarios-dir app/train_scenarios"
   ]
  },
  {
   "cell_type": "markdown",
   "metadata": {
    "papermill": {
     "duration": 0.38983,
     "end_time": "2025-10-24T18:00:01.953950",
     "exception": false,
     "start_time": "2025-10-24T18:00:01.564120",
     "status": "completed"
    },
    "tags": []
   },
   "source": [
    "# Test"
   ]
  },
  {
   "cell_type": "code",
   "execution_count": null,
   "metadata": {
    "execution": {
     "execution_failed": "2025-10-24T21:34:03.523Z"
    },
    "papermill": {
     "duration": 0.392154,
     "end_time": "2025-10-24T18:00:02.735153",
     "exception": false,
     "start_time": "2025-10-24T18:00:02.342999",
     "status": "completed"
    },
    "tags": [],
    "trusted": true
   },
   "outputs": [],
   "source": [
    "%%writefile app/energy_agent/config.yaml\n",
    "training_mode: False\n",
    "use_gpu: True\n",
    "checkpoint_path: \"app/energy_agent/models/ppo_rnn_model_last.pth\"\n",
    "\n",
    "actor_lr: 0.0001\n",
    "critic_lr: 0.0003\n",
    "\n",
    "qos_grad_coeff: 10.0\n",
    "energy_grad_coeff: 5.0\n",
    "cpu_grad_coeff: 1.0\n",
    "prb_grad_coeff: 1.0\n",
    "stability_penalty: 2.0\n",
    "energy_consumption_penalty: -1000.0\n",
    "# energy_coeff: 0.1\n",
    "# drop_magnitude_penalty_coef: 1.0\n",
    "# latency_magnitude_penalty_coef: 1.0\n",
    "# cpu_magnitude_penalty_coef: 1.0\n",
    "# prb_magnitude_penalty_coef: 1.0\n",
    "# improvement_coeff: 5.0\n",
    "\n",
    "entropy_coef: 0.01\n",
    "gamma: 0.99\n",
    "lambda_gae: 0.95\n",
    "clip_epsilon: 0.2\n",
    "ppo_epochs: 8\n",
    "batch_size: 4\n",
    "chunk_len: 32\n",
    "buffer_size: 512\n",
    "hidden_dim: 256\n"
   ]
  },
  {
   "cell_type": "code",
   "execution_count": null,
   "metadata": {
    "execution": {
     "execution_failed": "2025-10-24T21:34:03.523Z"
    },
    "papermill": {
     "duration": 4830.43195,
     "end_time": "2025-10-24T19:20:33.548899",
     "exception": false,
     "start_time": "2025-10-24T18:00:03.116949",
     "status": "completed"
    },
    "tags": [],
    "trusted": true
   },
   "outputs": [],
   "source": [
    "!python3 app/main_run_scenarios_python.py --scenarios-dir app/test_scenarios"
   ]
  }
 ],
 "metadata": {
  "kaggle": {
   "accelerator": "none",
   "dataSources": [],
   "dockerImageVersionId": 31153,
   "isGpuEnabled": false,
   "isInternetEnabled": true,
   "language": "python",
   "sourceType": "notebook"
  },
  "kernelspec": {
   "display_name": "mira",
   "language": "python",
   "name": "python3"
  },
  "language_info": {
   "codemirror_mode": {
    "name": "ipython",
    "version": 3
   },
   "file_extension": ".py",
   "mimetype": "text/x-python",
   "name": "python",
   "nbconvert_exporter": "python",
   "pygments_lexer": "ipython3",
   "version": "3.10.12"
  },
  "papermill": {
   "default_parameters": {},
   "duration": 41037.499225,
   "end_time": "2025-10-24T19:20:34.343328",
   "environment_variables": {},
   "exception": null,
   "input_path": "__notebook__.ipynb",
   "output_path": "__notebook__.ipynb",
   "parameters": {},
   "start_time": "2025-10-24T07:56:36.844103",
   "version": "2.6.0"
  }
 },
 "nbformat": 4,
 "nbformat_minor": 4
}
